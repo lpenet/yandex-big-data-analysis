{
 "cells": [
  {
   "cell_type": "markdown",
   "metadata": {
    "colab_type": "text",
    "id": "ZfiL39OTJ5sR"
   },
   "source": [
    "# Hive assignment 1"
   ]
  },
  {
   "cell_type": "markdown",
   "metadata": {
    "colab_type": "text",
    "id": "VD19-0y3J5sR"
   },
   "source": [
    "The purpose of this task is to create an external table on the posts data of the `stackoverflow.com` website."
   ]
  },
  {
   "cell_type": "markdown",
   "metadata": {
    "colab_type": "text",
    "id": "nKx3tQ4_J5sS"
   },
   "source": [
    "## Step 1. Intro. Creation of the DB"
   ]
  },
  {
   "cell_type": "markdown",
   "metadata": {
    "colab_type": "text",
    "id": "10mBFHfPJ5sS"
   },
   "source": [
    "Let's create the sandbox database where you will complete your assignment.\n",
    "\n",
    "<b>Note!</b> This code shouldn't be in your submission. Please, remove this code from the notebook before submission."
   ]
  },
  {
   "cell_type": "code",
   "execution_count": 4,
   "metadata": {
    "colab": {
     "autoexec": {
      "startup": false,
      "wait_interval": 0
     }
    },
    "colab_type": "code",
    "id": "v1kw1lFXJ5sU",
    "outputId": "7fa089c4-ee8f-40ec-b220-5101298f1b18"
   },
   "outputs": [
    {
     "name": "stdout",
     "output_type": "stream",
     "text": [
      "Overwriting creation_db.hql\n"
     ]
    }
   ],
   "source": [
    "%%writefile creation_db.hql\n",
    "DROP DATABASE IF EXISTS demodb CASCADE;"
   ]
  },
  {
   "cell_type": "code",
   "execution_count": 5,
   "metadata": {
    "colab": {
     "autoexec": {
      "startup": false,
      "wait_interval": 0
     }
    },
    "colab_type": "code",
    "id": "gk869885J5sZ",
    "outputId": "7c890932-c8de-41ba-ad23-f3b966198693"
   },
   "outputs": [
    {
     "name": "stdout",
     "output_type": "stream",
     "text": [
      "Appending to creation_db.hql\n"
     ]
    }
   ],
   "source": [
    "%%writefile -a creation_db.hql\n",
    "CREATE DATABASE demodb LOCATION '/user/jovyan/test_metastore';"
   ]
  },
  {
   "cell_type": "code",
   "execution_count": 6,
   "metadata": {
    "colab": {
     "autoexec": {
      "startup": false,
      "wait_interval": 0
     }
    },
    "colab_type": "code",
    "id": "JNqLknFJJ5sc",
    "outputId": "c5b66828-649f-408d-9651-403cff75522c"
   },
   "outputs": [
    {
     "name": "stdout",
     "output_type": "stream",
     "text": [
      "\n",
      "Logging initialized using configuration in jar:file:/usr/local/apache-hive-1.1.0-bin/lib/hive-common-1.1.0.jar!/hive-log4j.properties\n",
      "OK\n",
      "Time taken: 6.245 seconds\n",
      "OK\n",
      "Time taken: 0.286 seconds\n"
     ]
    }
   ],
   "source": [
    "! hive -f creation_db.hql"
   ]
  },
  {
   "cell_type": "markdown",
   "metadata": {
    "colab_type": "text",
    "id": "NvsrnOe6J5se"
   },
   "source": [
    "**Don't forget to remove this code before submission!**\n"
   ]
  },
  {
   "cell_type": "markdown",
   "metadata": {
    "colab_type": "text",
    "id": "dPEiXPuAJ5sf"
   },
   "source": [
    "## Step 2. Exploration of the dataset"
   ]
  },
  {
   "cell_type": "markdown",
   "metadata": {
    "colab_type": "text",
    "id": "tdzmqWgQJ5sg"
   },
   "source": [
    "Okay, we have created the database. Let's create your own table for users and posts."
   ]
  },
  {
   "cell_type": "markdown",
   "metadata": {
    "colab_type": "text",
    "id": "Li8EZVxtJ5sg"
   },
   "source": [
    "First of all, let's watch at the datasets for `users` which are located at `/data/stackexchange1000/posts` and for `posts` which is located at `/data/stackexchange1000/users`. Print the first three rows of those datasets.\n"
   ]
  },
  {
   "cell_type": "code",
   "execution_count": 4,
   "metadata": {
    "colab": {
     "autoexec": {
      "startup": false,
      "wait_interval": 0
     }
    },
    "colab_type": "code",
    "id": "HBbrpNdIeM6e"
   },
   "outputs": [
    {
     "name": "stdout",
     "output_type": "stream",
     "text": [
      "reporter:status:Reading \t\r\n",
      "<row Id=\"1394\" PostTypeId=\"2\" ParentId=\"1390\" CreationDate=\"2008-08-04T16:38:03.667\" Score=\"16\" Body=\"&lt;p&gt;Not sure how credible &lt;a href=&quot;http://www.builderau.com.au/program/windows/soa/Getting-started-with-Windows-Server-2008-Core-edition/0,339024644,339288700,00.htm&quot; rel=&quot;nofollow noreferrer&quot;&gt;this source is&lt;/a&gt;, but:&lt;/p&gt;&#xA;&#xA;&lt;blockquote&gt;&#xA;  &lt;p&gt;The Windows Server 2008 Core edition can:&lt;/p&gt;&#xA;  &#xA;  &lt;ul&gt;&#xA;  &lt;li&gt;&lt;p&gt;Run the file server role.&lt;/p&gt;&lt;/li&gt;&#xA;  &lt;li&gt;&lt;p&gt;Run the Hyper-V virtualization server role.&lt;/p&gt;&lt;/li&gt;&#xA;  &lt;li&gt;&lt;p&gt;Run the Directory Services role.&lt;/p&gt;&lt;/li&gt;&#xA;  &lt;li&gt;&lt;p&gt;Run the DHCP server role.&lt;/p&gt;&lt;/li&gt;&#xA;  &lt;li&gt;&lt;p&gt;Run the IIS Web server role.&lt;/p&gt;&lt;/li&gt;&#xA;  &lt;li&gt;&lt;p&gt;Run the DNS server role.&lt;/p&gt;&lt;/li&gt;&#xA;  &lt;li&gt;&lt;p&gt;Run Active Directory Lightweight Directory Services.&lt;/p&gt;&lt;/li&gt;&#xA;  &lt;li&gt;&lt;p&gt;Run the print server role.&lt;/p&gt;&lt;/li&gt;&#xA;  &lt;/ul&gt;&#xA;  &#xA;  &lt;p&gt;The Windows Server 2008 Core edition cannot:&lt;/p&gt;&#xA;  &#xA;  &lt;ul&gt;&#xA;  &lt;li&gt;&lt;p&gt;Run a SQL Server.&lt;/p&gt;&lt;/li&gt;&#xA;  &lt;li&gt;&lt;p&gt;Run an Exchange Server.&lt;/p&gt;&lt;/li&gt;&#xA;  &lt;li&gt;&lt;p&gt;Run Internet Explorer.&lt;/p&gt;&lt;/li&gt;&#xA;  &lt;li&gt;&lt;p&gt;Run Windows Explorer.&lt;/p&gt;&lt;/li&gt;&#xA;  &lt;li&gt;&lt;p&gt;Host a remote desktop session.&lt;/p&gt;&lt;/li&gt;&#xA;  &lt;li&gt;&lt;p&gt;Run MMC snap-in consoles locally.&lt;/p&gt;&lt;/li&gt;&#xA;  &lt;/ul&gt;&#xA;&lt;/blockquote&gt;&#xA;\" OwnerUserId=\"91\" LastEditorUserId=\"1\" LastEditorDisplayName=\"Jeff Atwood\" LastEditDate=\"2008-08-27T13:02:50.273\" LastActivityDate=\"2008-08-27T13:02:50.273\" CommentCount=\"1\" />\t\r\n",
      "<row Id=\"3543\" PostTypeId=\"2\" ParentId=\"3530\" CreationDate=\"2008-08-06T15:24:00.787\" Score=\"37\" Body=\"&lt;p&gt;from &lt;a href=&quot;http://www.timocracy.com/articles/2008/02/21/calling-invoking-rails-rake-tasks-from-within-ruby-for-testing-try-2&quot; rel=&quot;nofollow noreferrer&quot;&gt;timocracy.com&lt;/a&gt;:&lt;/p&gt;&#xA;&#xA;&lt;pre&gt;&lt;code&gt;require 'rake'&#xA;require 'rake/rdoctask'&#xA;require 'rake/testtask'&#xA;require 'tasks/rails'&#xA;&#xA;def capture_stdout&#xA;  s = StringIO.new&#xA;  oldstdout = $stdout&#xA;  $stdout = s&#xA;  yield&#xA;  s.string&#xA;ensure&#xA;  $stdout = oldstdout&#xA;end&#xA;&#xA;Rake.application.rake_require '../../lib/tasks/metric_fetcher'&#xA;results = capture_stdout {Rake.application['metric_fetcher'].invoke}&#xA;&lt;/code&gt;&lt;/pre&gt;&#xA;\" OwnerUserId=\"399\" LastActivityDate=\"2008-08-06T15:24:00.787\" CommentCount=\"3\" />\t\r\n"
     ]
    }
   ],
   "source": [
    "! head -n 3 /data/stackexchange1000/posts/part-00000"
   ]
  },
  {
   "cell_type": "code",
   "execution_count": 5,
   "metadata": {
    "colab": {
     "autoexec": {
      "startup": false,
      "wait_interval": 0
     }
    },
    "colab_type": "code",
    "id": "bRiLxzoReZ7o"
   },
   "outputs": [
    {
     "name": "stdout",
     "output_type": "stream",
     "text": [
      "reporter:status:Reading \t\r\n",
      "<row Id=\"756\" Reputation=\"2358\" CreationDate=\"2008-08-08T15:31:50.013\" DisplayName=\"Simon Gillbee\" LastAccessDate=\"2016-12-09T15:38:03.453\" WebsiteUrl=\"http://simon.gillbee.com\" Location=\"Pearland, TX\" AboutMe=\"&lt;p&gt;Personally, I am a husband, step-father, grandfather, Christ-worshiper, singer, worship leader, computer programmer, reader, game player, kite flyer, generally all around fun guy (or that fungi?).&lt;/p&gt;&#xA;&#xA;&lt;p&gt;Professionally, I've been developing both commercial and proprietary systems for the last 20 years. These days I'm primarily writing enterprise-scale client and server software using .NET and loving it!&lt;/p&gt;&#xA;&#xA;&lt;h1&gt;SOreadytohelp&lt;/h1&gt;&#xA;\" Views=\"478\" UpVotes=\"352\" DownVotes=\"25\" Age=\"45\" AccountId=\"587\" />\t\r\n",
      "<row Id=\"2050\" Reputation=\"4177\" CreationDate=\"2008-08-20T00:32:49.217\" DisplayName=\"Eric Platon\" LastAccessDate=\"2016-12-10T22:24:27.217\" WebsiteUrl=\"\" Location=\"Tokyo, Japan\" AboutMe=\"\" Views=\"387\" UpVotes=\"1045\" DownVotes=\"6\" Age=\"46\" AccountId=\"1533\" />\t\r\n"
     ]
    }
   ],
   "source": [
    "! head -n 3 /data/stackexchange1000/users/part-00000"
   ]
  },
  {
   "cell_type": "markdown",
   "metadata": {
    "colab_type": "text",
    "id": "cGrOQYgqJ5sn"
   },
   "source": [
    "As you can see, those rows contain some information about posts and users in XML format."
   ]
  },
  {
   "cell_type": "markdown",
   "metadata": {
    "colab_type": "text",
    "id": "AoNccKriJ5sp"
   },
   "source": [
    "<b>Question.</b> Which fields for users and posts do you think are the most important for the analysis? And for joining tables? "
   ]
  },
  {
   "cell_type": "markdown",
   "metadata": {
    "colab_type": "text",
    "id": "1mWC_LHQJ5sr"
   },
   "source": [
    "<h3><b>Please, check your answer with this information!</b></h3>"
   ]
  },
  {
   "cell_type": "markdown",
   "metadata": {
    "colab_type": "text",
    "id": "3hcl3lLyJ5sq"
   },
   "source": [
    "So, the lines not started with the \"row\" tags should be ignored. The valid row contains the following fields and their order is not defined:\n",
    "\n",
    "* Id (integer) - id of the post\n",
    "* PostTypeId (integer: 1 or 2) - 1 for questions, 2 for answers\n",
    "* CreationDate (date) - post creation date in the format \"YYYY-MM-DDTHH:MM:SS.ms\"\n",
    "* Tags (string, optional) - list of post tags, each tag is wrapped with html entities `&lt;` and `&gt;`\n",
    "* OwnerUserId (integer, optional) - user id of the post's author\n",
    "* ParentId (integer, optional) - for answers - id of the question\n",
    "* Score (integer) - score (votes) of a question or an answer, can be negative (!)\n",
    "* FavoriteCount (integer, optional) - how many times the question was added in the favorites"
   ]
  },
  {
   "cell_type": "markdown",
   "metadata": {
    "colab_type": "text",
    "id": "pmQ2vtOVJ5sr"
   },
   "source": [
    "The second part of the dataset contains StackOverflow users.\n",
    "\n",
    "The fields are the following and their order is also not defined:\n",
    "\n",
    "* Id (integer) - user id\n",
    "* Reputation (integer) - user's reputation\n",
    "* CreationDate (string) - creation date in the format \"YYYY-MM-DDTHH:MM:SS.ms\"\n",
    "* DisplayName (string) - user's name\n",
    "* Location (string, options) - user's country\n",
    "* Age (integer, optional) - user's age"
   ]
  },
  {
   "cell_type": "markdown",
   "metadata": {
    "colab_type": "text",
    "id": "Na2THNHnJ5ss"
   },
   "source": [
    "## Step 3. Train your regexp skills"
   ]
  },
  {
   "cell_type": "markdown",
   "metadata": {
    "colab_type": "text",
    "id": "pxFZQpxIJ5st"
   },
   "source": [
    "In this step you will find out how to parse information for complex rows! You will try to create some examples for parsing! There are some general rules for parsing:"
   ]
  },
  {
   "cell_type": "markdown",
   "metadata": {
    "colab_type": "text",
    "id": "YRaJBzTeJ5su"
   },
   "source": [
    "1. To create a regular expression, which describes strings containing two patterns, where the order of the patterns is not defined use the following so-called ‘positive lookahead assertion’ with `?=` group modifier. For example, both strings “Washington Irving” and “Irving Washington” match the pattern:\n",
    "```\n",
    "(?=.*Washington)(?=.*Irving)\n",
    "```.\n",
    "2. To capture groups use round brackets. So, the pattern: `(?=.*(Washington))(?=.*(Irving))` captures `Washington` and `Irving` from both strings: \"William Arthur Irving Washington was an English first-class Cricketer\" and: “Washington Irving was an American writer”.\n",
    "3. Use `\\b` to specify boundaries of words and increase accuracy of your pattern. For example: pattern `(?=.*\\bID=(\\d+))(?=.*\\bUserID=(\\d+))` captures `1` and `2` from the string `ID=1 UserID=2`, whereas pattern without `\\b`: `(?=.*ID=(\\d+))(?=.*UserID=(\\d+))` returns the wrong groups: `2` and `2`.\n",
    "4. In Hive pattern for the external table in SERDEPROPERTIES `input.regex` should describe the whole input string, add `.*` at the end of the pattern.\n",
    "5. Don't forget that for the beginning of string should also be covered. That's why use the pattern `.*?` for lazy initialization of future patterns."
   ]
  },
  {
   "cell_type": "markdown",
   "metadata": {
    "colab_type": "text",
    "id": "cRobnWBYJ5sv"
   },
   "source": [
    "To sum up, you can create your first regex for parsing Id from posts!"
   ]
  },
  {
   "cell_type": "markdown",
   "metadata": {
    "colab_type": "text",
    "id": "fA7LBThaJ5sv"
   },
   "source": [
    "<b>Question!</b> What will be your first regex for parsing Id from the posts? Don't forget to add steps 4 and 5!"
   ]
  },
  {
   "cell_type": "markdown",
   "metadata": {
    "colab_type": "text",
    "id": "jAwyKE9EJ5sw"
   },
   "source": [
    "<div class=\"panel-group\">\n",
    "  <div class=\"panel panel-default\">\n",
    "    <div class=\"panel-heading\">\n",
    "      <h4 class=\"panel-title\">\n",
    "        <a data-toggle=\"collapse\" href=\"#collapse-answer\">Check your answer!</a>\n",
    "      </h4>\n",
    "    </div>\n",
    "    <div id=\"collapse-answer\" class=\"panel-collapse collapse\">\n",
    "      <div class=\"panel-body\">The correct answer is `\".*?(?=.*\\\\bId=\\\"(\\\\d+)\\\").*\"` </div>\n",
    "    </div>\n",
    "  </div>\n",
    "</div>"
   ]
  },
  {
   "cell_type": "markdown",
   "metadata": {
    "colab_type": "text",
    "id": "pirvGNs1J5sx"
   },
   "source": [
    "Let's create the first external table with one row which contains only `Id` field. Let's name it `posts_external_only_id`.\n",
    "You can watch the lecture for the SerDe format: <a href=\"https://www.coursera.org/learn/big-data-analysis/lecture/wAGe6/hive-analytics-regexserde-views\">Serde Format</a> and <a href=\"/notebooks/demos/course02_week02-Demo_submission.ipynb#2.-Creation-the-external-table\">creation of external table</a> tutorial."
   ]
  },
  {
   "cell_type": "code",
   "execution_count": 6,
   "metadata": {
    "colab": {
     "autoexec": {
      "startup": false,
      "wait_interval": 0
     }
    },
    "colab_type": "code",
    "id": "bMdai9W-J5sx"
   },
   "outputs": [
    {
     "name": "stdout",
     "output_type": "stream",
     "text": [
      "Writing demo_example.hql\n"
     ]
    }
   ],
   "source": [
    "%%writefile demo_example.hql\n",
    "\n",
    "-- adding necessary JARs and including database\n",
    "ADD JAR /opt/cloudera/parcels/CDH/lib/hive/lib/hive-contrib.jar;\n",
    "ADD JAR /opt/cloudera/parcels/CDH/lib/hive/lib/hive-serde.jar;\n",
    "\n",
    "USE demodb;\n",
    "DROP TABLE IF EXISTS posts_external_only_id;\n",
    "\n",
    "\n",
    "-- Create external table \n",
    "\n",
    "-- Your code here\n",
    "CREATE EXTERNAL TABLE posts_external_only_id (\n",
    "    id string\n",
    ")\n",
    "ROW FORMAT\n",
    "    SERDE 'org.apache.hadoop.hive.serde2.RegexSerDe'\n",
    "    WITH SERDEPROPERTIES (\n",
    "        \"input.regex\" = '.*?(?=.*\\\\bId=\\\"(\\\\d+)\\\").*' \n",
    "    )\n",
    "LOCATION '/data/stackexchange1000/posts';"
   ]
  },
  {
   "cell_type": "markdown",
   "metadata": {
    "colab_type": "text",
    "id": "2lNqp7uWJ5s9"
   },
   "source": [
    "Hooray! You have created your first table. Let us watch for this table!"
   ]
  },
  {
   "cell_type": "code",
   "execution_count": null,
   "metadata": {
    "colab": {
     "autoexec": {
      "startup": false,
      "wait_interval": 0
     }
    },
    "colab_type": "code",
    "id": "Z4m1NcvkJ5s9",
    "outputId": "fb1d255e-e8e6-495d-bdb9-aef62dce66d7"
   },
   "outputs": [],
   "source": [
    "%%writefile describe.hql\n",
    "\n",
    "ADD JAR /opt/cloudera/parcels/CDH/lib/hive/lib/hive-contrib.jar;\n",
    "\n",
    "USE demodb;\n",
    "DESCRIBE posts_external_only_id;"
   ]
  },
  {
   "cell_type": "markdown",
   "metadata": {
    "colab_type": "text",
    "id": "kuvkMUIqJ5tE"
   },
   "source": [
    "Let's see that the data is  correctly parsed. For this case, take a select query that chooses for us first 10 rows"
   ]
  },
  {
   "cell_type": "code",
   "execution_count": null,
   "metadata": {
    "colab": {
     "autoexec": {
      "startup": false,
      "wait_interval": 0
     }
    },
    "colab_type": "code",
    "id": "ZkONpnbTJ5tF"
   },
   "outputs": [],
   "source": [
    "%%writefile my_first_select.hql\n",
    "-- Your code here\n",
    "SELECT * FROM demodb.posts_external_only_id\n",
    "LIMIT 10;"
   ]
  },
  {
   "cell_type": "markdown",
   "metadata": {
    "colab_type": "text",
    "id": "xFL5R6oTJ5tO"
   },
   "source": [
    "How many posts are there in the dataset? Don't forget to clear the `NULL` values!"
   ]
  },
  {
   "cell_type": "code",
   "execution_count": null,
   "metadata": {
    "colab": {
     "autoexec": {
      "startup": false,
      "wait_interval": 0
     }
    },
    "colab_type": "code",
    "id": "d0gg-zzyJ5tO"
   },
   "outputs": [],
   "source": [
    "%%writefile how_many_posts.hql\n",
    "-- Your code here\n",
    "SELECT count(*) FROM demodb.posts_external_only_id;"
   ]
  },
  {
   "cell_type": "markdown",
   "metadata": {
    "colab_type": "text",
    "id": "qjP7lEGZJ5tW"
   },
   "source": [
    "Try to parse different fields: for example, day and month of creation date. Don't forget that Hive will accept values for the capturing group in the lookahead. "
   ]
  },
  {
   "cell_type": "markdown",
   "metadata": {
    "colab_type": "text",
    "id": "9Ai72gzOJ5tX"
   },
   "source": [
    "Now you are ready to complete your task! Before this you can check your regular expression for parsing!"
   ]
  },
  {
   "cell_type": "code",
   "execution_count": null,
   "metadata": {
    "colab": {
     "autoexec": {
      "startup": false,
      "wait_interval": 0
     }
    },
    "colab_type": "code",
    "id": "RK4ni3GdJ5tY"
   },
   "outputs": [],
   "source": [
    "import re"
   ]
  },
  {
   "cell_type": "code",
   "execution_count": null,
   "metadata": {
    "colab": {
     "autoexec": {
      "startup": false,
      "wait_interval": 0
     }
    },
    "colab_type": "code",
    "id": "yT8UyDAKJ5tZ"
   },
   "outputs": [],
   "source": [
    "CHECK_ROW = '<row Id=\"1394\" PostTypeId=\"2\" ParentId=\"1390\" CreationDate=\"2008-08-04T16:38:03.667\" Score=\"16\" Body=\"&lt;p&gt;Not sure how credible &lt;a href=&quot;http://www.builderau.com.au/program/windows/soa/Getting-started-with-Windows-Server-2008-Core-edition/0,339024644,339288700,00.htm&quot; rel=&quot;nofollow noreferrer&quot;&gt;this source is&lt;/a&gt;, but:&lt;/p&gt;&#xA;&#xA;&lt;blockquote&gt;&#xA;  &lt;p&gt;The Windows Server 2008 Core edition can:&lt;/p&gt;&#xA;  &#xA;  &lt;ul&gt;&#xA;  &lt;li&gt;&lt;p&gt;Run the file server role.&lt;/p&gt;&lt;/li&gt;&#xA;  &lt;li&gt;&lt;p&gt;Run the Hyper-V virtualization server role.&lt;/p&gt;&lt;/li&gt;&#xA;  &lt;li&gt;&lt;p&gt;Run the Directory Services role.&lt;/p&gt;&lt;/li&gt;&#xA;  &lt;li&gt;&lt;p&gt;Run the DHCP server role.&lt;/p&gt;&lt;/li&gt;&#xA;  &lt;li&gt;&lt;p&gt;Run the IIS Web server role.&lt;/p&gt;&lt;/li&gt;&#xA;  &lt;li&gt;&lt;p&gt;Run the DNS server role.&lt;/p&gt;&lt;/li&gt;&#xA;  &lt;li&gt;&lt;p&gt;Run Active Directory Lightweight Directory Services.&lt;/p&gt;&lt;/li&gt;&#xA;  &lt;li&gt;&lt;p&gt;Run the print server role.&lt;/p&gt;&lt;/li&gt;&#xA;  &lt;/ul&gt;&#xA;  &#xA;  &lt;p&gt;The Windows Server 2008 Core edition cannot:&lt;/p&gt;&#xA;  &#xA;  &lt;ul&gt;&#xA;  &lt;li&gt;&lt;p&gt;Run a SQL Server.&lt;/p&gt;&lt;/li&gt;&#xA;  &lt;li&gt;&lt;p&gt;Run an Exchange Server.&lt;/p&gt;&lt;/li&gt;&#xA;  &lt;li&gt;&lt;p&gt;Run Internet Explorer.&lt;/p&gt;&lt;/li&gt;&#xA;  &lt;li&gt;&lt;p&gt;Run Windows Explorer.&lt;/p&gt;&lt;/li&gt;&#xA;  &lt;li&gt;&lt;p&gt;Host a remote desktop session.&lt;/p&gt;&lt;/li&gt;&#xA;  &lt;li&gt;&lt;p&gt;Run MMC snap-in consoles locally.&lt;/p&gt;&lt;/li&gt;&#xA;  &lt;/ul&gt;&#xA;&lt;/blockquote&gt;&#xA;\" OwnerUserId=\"91\" LastEditorUserId=\"1\" LastEditorDisplayName=\"Jeff Atwood\" LastEditDate=\"2008-08-27T13:02:50.273\" LastActivityDate=\"2008-08-27T13:02:50.273\" CommentCount=\"1\" />'"
   ]
  },
  {
   "cell_type": "code",
   "execution_count": null,
   "metadata": {
    "colab": {
     "autoexec": {
      "startup": false,
      "wait_interval": 0
     }
    },
    "colab_type": "code",
    "id": "CGLH3FM_J5tb"
   },
   "outputs": [],
   "source": [
    "CHECK_REGEX = '.*?(?=.*\\\\bId=\\\"(\\\\d+)\\\")(?=.*\\\\bPostTypeId=\\\"(\\\\d+)\\\")(?=.*\\\\bParentId=\\\"(\\\\d+)\\\")(?=.*\\\\bCreationDate=\\\"(\\\\d+).*\\\")(?=.*\\\\bCreationDate=\\\"(\\\\d{4}-\\\\d+).*\\\")(?=.*\\\\bCreationDate=\\\"\\\\d{4}-\\\\d{2}-(\\\\d+).*\\\").*'"
   ]
  },
  {
   "cell_type": "code",
   "execution_count": null,
   "metadata": {
    "colab": {
     "autoexec": {
      "startup": false,
      "wait_interval": 0
     }
    },
    "colab_type": "code",
    "id": "P8ZiiwbqJ5tf"
   },
   "outputs": [],
   "source": [
    "result = re.match(CHECK_REGEX, CHECK_ROW)"
   ]
  },
  {
   "cell_type": "code",
   "execution_count": null,
   "metadata": {
    "colab": {
     "autoexec": {
      "startup": false,
      "wait_interval": 0
     }
    },
    "colab_type": "code",
    "id": "lKWMRzJNJ5ti"
   },
   "outputs": [],
   "source": [
    "# Sanity check\n",
    "assert result.group(0) == CHECK_ROW"
   ]
  },
  {
   "cell_type": "code",
   "execution_count": null,
   "metadata": {
    "colab": {
     "autoexec": {
      "startup": false,
      "wait_interval": 0
     }
    },
    "colab_type": "code",
    "id": "JeTfyTUwJ5tk"
   },
   "outputs": [],
   "source": [
    "# Check that your groups are correct\n",
    "print(result.groups())"
   ]
  },
  {
   "cell_type": "markdown",
   "metadata": {
    "colab_type": "text",
    "id": "agtKfzx2J5tm"
   },
   "source": [
    "## Step 4. Complete the assignment"
   ]
  },
  {
   "cell_type": "code",
   "execution_count": 7,
   "metadata": {
    "colab": {
     "autoexec": {
      "startup": false,
      "wait_interval": 0
     }
    },
    "colab_type": "code",
    "id": "jRdQeLwkJ5tn"
   },
   "outputs": [
    {
     "name": "stdout",
     "output_type": "stream",
     "text": [
      "Writing task1_create_external_table.hql\n"
     ]
    }
   ],
   "source": [
    "%%writefile task1_create_external_table.hql\n",
    "-- Create external table posts_sample_external with suitable values\n",
    "-- Your code here\n",
    "-- adding necessary JARs and including database\n",
    "-- ADD JAR /opt/cloudera/parcels/CDH/lib/hive/lib/hive-contrib.jar;\n",
    "-- ADD JAR /opt/cloudera/parcels/CDH/lib/hive/lib/hive-serde.jar;\n",
    "\n",
    "USE demodb;\n",
    "DROP TABLE IF EXISTS posts_sample_external;\n",
    "\n",
    "\n",
    "-- Create external table \n",
    "\n",
    "-- Your code here\n",
    "CREATE EXTERNAL TABLE posts_sample_external (\n",
    "    Id string,\n",
    "    CreationYear string,\n",
    "    CreationMonth string\n",
    ")\n",
    "ROW FORMAT\n",
    "    SERDE 'org.apache.hadoop.hive.serde2.RegexSerDe'\n",
    "    WITH SERDEPROPERTIES (\n",
    "        \"input.regex\" = '.*?(?=.*\\\\bId=\\\"(\\\\d+)\\\")(?=.*\\\\bCreationDate=\\\"(\\\\d+).*\\\")(?=.*\\\\bCreationDate=\\\"(\\\\d{4}-\\\\d+).*\\\").*' \n",
    "    )\n",
    "LOCATION '/data/stackexchange1000/posts';"
   ]
  },
  {
   "cell_type": "code",
   "execution_count": 8,
   "metadata": {},
   "outputs": [
    {
     "name": "stdout",
     "output_type": "stream",
     "text": [
      "\n",
      "Logging initialized using configuration in jar:file:/usr/local/apache-hive-1.1.0-bin/lib/hive-common-1.1.0.jar!/hive-log4j.properties\n",
      "OK\n",
      "Time taken: 1.138 seconds\n",
      "OK\n",
      "Time taken: 0.099 seconds\n",
      "OK\n",
      "Time taken: 0.898 seconds\n"
     ]
    }
   ],
   "source": [
    "!hive -f task1_create_external_table.hql"
   ]
  },
  {
   "cell_type": "markdown",
   "metadata": {
    "colab_type": "text",
    "id": "XaImIBNKJ5ts"
   },
   "source": [
    "Make sure that you have created your table correctly. Select the first 10 posts from the dataset."
   ]
  },
  {
   "cell_type": "code",
   "execution_count": 9,
   "metadata": {
    "colab": {
     "autoexec": {
      "startup": false,
      "wait_interval": 0
     }
    },
    "colab_type": "code",
    "id": "2LdLWs-cJ5tt"
   },
   "outputs": [
    {
     "name": "stdout",
     "output_type": "stream",
     "text": [
      "Writing task1_check_select.hql\n"
     ]
    }
   ],
   "source": [
    "%%writefile task1_check_select.hql\n",
    "\n",
    "-- Write select query for the first 10 rows\n",
    "-- Your code here\n",
    "SELECT * FROM demodb.posts_sample_external\n",
    "LIMIT 10;"
   ]
  },
  {
   "cell_type": "code",
   "execution_count": 10,
   "metadata": {},
   "outputs": [
    {
     "name": "stdout",
     "output_type": "stream",
     "text": [
      "\n",
      "Logging initialized using configuration in jar:file:/usr/local/apache-hive-1.1.0-bin/lib/hive-common-1.1.0.jar!/hive-log4j.properties\n",
      "OK\n",
      "NULL\tNULL\tNULL\n",
      "1394\t2008\t2008-08\n",
      "3543\t2008\t2008-08\n",
      "4521\t2008\t2008-08\n",
      "8689\t2008\t2008-08\n",
      "9062\t2008\t2008-08\n",
      "14671\t2008\t2008-08\n",
      "16307\t2008\t2008-08\n",
      "18780\t2008\t2008-08\n",
      "18929\t2008\t2008-08\n",
      "Time taken: 2.87 seconds, Fetched: 10 row(s)\n"
     ]
    }
   ],
   "source": [
    "!hive -f task1_check_select.hql"
   ]
  },
  {
   "cell_type": "markdown",
   "metadata": {
    "colab_type": "text",
    "id": "dqfA8StqJ5tx"
   },
   "source": [
    "Create managed table `posts_sample`. Create the partition by the month and by the year. "
   ]
  },
  {
   "cell_type": "code",
   "execution_count": 11,
   "metadata": {
    "colab": {
     "autoexec": {
      "startup": false,
      "wait_interval": 0
     }
    },
    "colab_type": "code",
    "id": "0N7DS8HaJ5tx"
   },
   "outputs": [
    {
     "name": "stdout",
     "output_type": "stream",
     "text": [
      "Writing task1_create_managed_table.hql\n"
     ]
    }
   ],
   "source": [
    "%%writefile task1_create_managed_table.hql\n",
    "-- create managed table\n",
    "-- Check that this table contains info about year and month\n",
    "-- Your code here\n",
    "-- adding necessary JARs and including database\n",
    "-- ADD JAR /opt/cloudera/parcels/CDH/lib/hive/lib/hive-contrib.jar;\n",
    "-- ADD JAR /opt/cloudera/parcels/CDH/lib/hive/lib/hive-serde.jar;\n",
    "\n",
    "USE demodb;\n",
    "\n",
    "DROP TABLE IF EXISTS posts_sample;\n",
    "\n",
    "CREATE TABLE posts_sample (\n",
    "    Id string\n",
    ")\n",
    "PARTITIONED BY (\n",
    "    CreationMonth string,\n",
    "    CreationYear string\n",
    ");\n"
   ]
  },
  {
   "cell_type": "code",
   "execution_count": 12,
   "metadata": {},
   "outputs": [
    {
     "name": "stdout",
     "output_type": "stream",
     "text": [
      "\n",
      "Logging initialized using configuration in jar:file:/usr/local/apache-hive-1.1.0-bin/lib/hive-common-1.1.0.jar!/hive-log4j.properties\n",
      "OK\n",
      "Time taken: 1.128 seconds\n",
      "OK\n",
      "Time taken: 0.096 seconds\n",
      "OK\n",
      "Time taken: 0.996 seconds\n"
     ]
    }
   ],
   "source": [
    "!hive -f task1_create_managed_table.hql"
   ]
  },
  {
   "cell_type": "markdown",
   "metadata": {
    "colab_type": "text",
    "id": "YUNkq4SXJ5t0"
   },
   "source": [
    "Populate data from the table `posts_sample_external` to the table `posts_sample`. Don't forget about the partitioning rules!"
   ]
  },
  {
   "cell_type": "code",
   "execution_count": 13,
   "metadata": {
    "colab": {
     "autoexec": {
      "startup": false,
      "wait_interval": 0
     }
    },
    "colab_type": "code",
    "id": "HdCM4rS7J5t0"
   },
   "outputs": [
    {
     "name": "stdout",
     "output_type": "stream",
     "text": [
      "Writing task1_insert_table.hql\n"
     ]
    }
   ],
   "source": [
    "%%writefile task1_insert_table.hql\n",
    "\n",
    "-- Insert data to the managed table\n",
    "\n",
    "USE demodb;\n",
    "-- filling managed posts table from external one\n",
    "SET hive.exec.dynamic.partition.mode=nonstrict;\n",
    "SET hive.exec.max.dynamic.partitions=2048;\n",
    "SET hive.exec.max.dynamic.partitions.pernode=256;\n",
    "SET hive.exec.max.created.files=10000;\n",
    "SET hive.enforce.bucketing=true;\n",
    "SET hive.mapred.supports.subdirectories=true;\n",
    "\n",
    "-- Your code here for inserting data\n",
    "FROM posts_sample_external pse\n",
    "INSERT overwrite table posts_sample\n",
    "PARTITION (CreationMonth, CreationYear)\n",
    "SELECT pse.Id, pse.CreationMonth, pse.CreationYear;\n",
    "\n"
   ]
  },
  {
   "cell_type": "code",
   "execution_count": 14,
   "metadata": {},
   "outputs": [
    {
     "name": "stdout",
     "output_type": "stream",
     "text": [
      "\n",
      "Logging initialized using configuration in jar:file:/usr/local/apache-hive-1.1.0-bin/lib/hive-common-1.1.0.jar!/hive-log4j.properties\n",
      "OK\n",
      "Time taken: 1.107 seconds\n",
      "Query ID = jovyan_20190515080707_acf8fffa-d372-4bd2-ba48-5c730c07300e\n",
      "Total jobs = 3\n",
      "Launching Job 1 out of 3\n",
      "Number of reduce tasks is set to 0 since there's no reduce operator\n",
      "Starting Job = job_1557896819805_0001, Tracking URL = http://b43f8bc3608b:8088/proxy/application_1557896819805_0001/\n",
      "Kill Command = /opt/hadoop/bin/hadoop job  -kill job_1557896819805_0001\n",
      "Hadoop job information for Stage-1: number of mappers: 1; number of reducers: 0\n",
      "2019-05-15 08:08:10,663 Stage-1 map = 0%,  reduce = 0%\n",
      "2019-05-15 08:08:29,194 Stage-1 map = 36%,  reduce = 0%, Cumulative CPU 17.77 sec\n",
      "2019-05-15 08:08:35,623 Stage-1 map = 60%,  reduce = 0%, Cumulative CPU 23.42 sec\n",
      "2019-05-15 08:08:40,951 Stage-1 map = 87%,  reduce = 0%, Cumulative CPU 29.28 sec\n",
      "2019-05-15 08:08:47,341 Stage-1 map = 100%,  reduce = 0%, Cumulative CPU 33.35 sec\n",
      "MapReduce Total cumulative CPU time: 33 seconds 350 msec\n",
      "Ended Job = job_1557896819805_0001\n",
      "Stage-4 is selected by condition resolver.\n",
      "Stage-3 is filtered out by condition resolver.\n",
      "Stage-5 is filtered out by condition resolver.\n",
      "Moving data to: hdfs://localhost:9000/user/jovyan/test_metastore/posts_sample/.hive-staging_hive_2019-05-15_08-07-51_172_1850672012609904518-1/-ext-10000\n",
      "Loading data to table demodb.posts_sample partition (creationmonth=null, creationyear=null)\n",
      "\t Time taken for load dynamic partitions : 15028\n",
      "\tLoading partition {creationmonth=2016-04, creationyear=2016}\n",
      "\tLoading partition {creationmonth=2011-02, creationyear=2011}\n",
      "\tLoading partition {creationmonth=2009-04, creationyear=2009}\n",
      "\tLoading partition {creationmonth=2010-12, creationyear=2010}\n",
      "\tLoading partition {creationmonth=2013-11, creationyear=2013}\n",
      "\tLoading partition {creationmonth=2008-08, creationyear=2008}\n",
      "\tLoading partition {creationmonth=2016-10, creationyear=2016}\n",
      "\tLoading partition {creationmonth=2009-10, creationyear=2009}\n",
      "\tLoading partition {creationmonth=2010-06, creationyear=2010}\n",
      "\tLoading partition {creationmonth=2013-05, creationyear=2013}\n",
      "\tLoading partition {creationmonth=2010-04, creationyear=2010}\n",
      "\tLoading partition {creationmonth=2015-06, creationyear=2015}\n",
      "\tLoading partition {creationmonth=2014-01, creationyear=2014}\n",
      "\tLoading partition {creationmonth=2012-07, creationyear=2012}\n",
      "\tLoading partition {creationmonth=2011-09, creationyear=2011}\n",
      "\tLoading partition {creationmonth=2009-02, creationyear=2009}\n",
      "\tLoading partition {creationmonth=2014-08, creationyear=2014}\n",
      "\tLoading partition {creationmonth=2016-02, creationyear=2016}\n",
      "\tLoading partition {creationmonth=2013-03, creationyear=2013}\n",
      "\tLoading partition {creationmonth=2011-10, creationyear=2011}\n",
      "\tLoading partition {creationmonth=2010-02, creationyear=2010}\n",
      "\tLoading partition {creationmonth=2014-11, creationyear=2014}\n",
      "\tLoading partition {creationmonth=2015-08, creationyear=2015}\n",
      "\tLoading partition {creationmonth=2010-10, creationyear=2010}\n",
      "\tLoading partition {creationmonth=2014-03, creationyear=2014}\n",
      "\tLoading partition {creationmonth=2011-04, creationyear=2011}\n",
      "\tLoading partition {creationmonth=2012-09, creationyear=2012}\n",
      "\tLoading partition {creationmonth=2014-06, creationyear=2014}\n",
      "\tLoading partition {creationmonth=2015-03, creationyear=2015}\n",
      "\tLoading partition {creationmonth=2013-09, creationyear=2013}\n",
      "\tLoading partition {creationmonth=2011-12, creationyear=2011}\n",
      "\tLoading partition {creationmonth=2010-09, creationyear=2010}\n",
      "\tLoading partition {creationmonth=2015-10, creationyear=2015}\n",
      "\tLoading partition {creationmonth=2008-10, creationyear=2008}\n",
      "\tLoading partition {creationmonth=2011-06, creationyear=2011}\n",
      "\tLoading partition {creationmonth=2014-12, creationyear=2014}\n",
      "\tLoading partition {creationmonth=2012-03, creationyear=2012}\n",
      "\tLoading partition {creationmonth=2010-03, creationyear=2010}\n",
      "\tLoading partition {creationmonth=2016-06, creationyear=2016}\n",
      "\tLoading partition {creationmonth=2015-09, creationyear=2015}\n",
      "\tLoading partition {creationmonth=2011-05, creationyear=2011}\n",
      "\tLoading partition {creationmonth=2010-08, creationyear=2010}\n",
      "\tLoading partition {creationmonth=2012-02, creationyear=2012}\n",
      "\tLoading partition {creationmonth=2014-07, creationyear=2014}\n",
      "\tLoading partition {creationmonth=2009-12, creationyear=2009}\n",
      "\tLoading partition {creationmonth=2013-10, creationyear=2013}\n",
      "\tLoading partition {creationmonth=2009-01, creationyear=2009}\n",
      "\tLoading partition {creationmonth=2016-12, creationyear=2016}\n",
      "\tLoading partition {creationmonth=2008-09, creationyear=2008}\n",
      "\tLoading partition {creationmonth=2015-04, creationyear=2015}\n",
      "\tLoading partition {creationmonth=2016-01, creationyear=2016}\n",
      "\tLoading partition {creationmonth=2009-06, creationyear=2009}\n",
      "\tLoading partition {creationmonth=2011-11, creationyear=2011}\n",
      "\tLoading partition {creationmonth=2012-08, creationyear=2012}\n",
      "\tLoading partition {creationmonth=2015-07, creationyear=2015}\n",
      "\tLoading partition {creationmonth=2014-02, creationyear=2014}\n",
      "\tLoading partition {creationmonth=2013-12, creationyear=2013}\n",
      "\tLoading partition {creationmonth=2010-11, creationyear=2010}\n",
      "\tLoading partition {creationmonth=2011-03, creationyear=2011}\n",
      "\tLoading partition {creationmonth=2009-03, creationyear=2009}\n",
      "\tLoading partition {creationmonth=2011-01, creationyear=2011}\n",
      "\tLoading partition {creationmonth=2016-03, creationyear=2016}\n",
      "\tLoading partition {creationmonth=2016-11, creationyear=2016}\n",
      "\tLoading partition {creationmonth=2013-04, creationyear=2013}\n",
      "\tLoading partition {creationmonth=2014-09, creationyear=2014}\n",
      "\tLoading partition {creationmonth=2009-11, creationyear=2009}\n",
      "\tLoading partition {creationmonth=2010-05, creationyear=2010}\n",
      "\tLoading partition {creationmonth=2015-05, creationyear=2015}\n",
      "\tLoading partition {creationmonth=2015-11, creationyear=2015}\n",
      "\tLoading partition {creationmonth=2009-07, creationyear=2009}\n",
      "\tLoading partition {creationmonth=2008-11, creationyear=2008}\n",
      "\tLoading partition {creationmonth=2016-07, creationyear=2016}\n",
      "\tLoading partition {creationmonth=2012-06, creationyear=2012}\n",
      "\tLoading partition {creationmonth=2013-06, creationyear=2013}\n",
      "\tLoading partition {creationmonth=2009-05, creationyear=2009}\n",
      "\tLoading partition {creationmonth=2016-05, creationyear=2016}\n",
      "\tLoading partition {creationmonth=2010-07, creationyear=2010}\n",
      "\tLoading partition {creationmonth=2012-12, creationyear=2012}\n",
      "\tLoading partition {creationmonth=2012-01, creationyear=2012}\n",
      "\tLoading partition {creationmonth=__HIVE_DEFAULT_PARTITION__, creationyear=__HIVE_DEFAULT_PARTITION__}\n",
      "\tLoading partition {creationmonth=2010-01, creationyear=2010}\n",
      "\tLoading partition {creationmonth=2009-09, creationyear=2009}\n",
      "\tLoading partition {creationmonth=2016-09, creationyear=2016}\n",
      "\tLoading partition {creationmonth=2012-04, creationyear=2012}\n",
      "\tLoading partition {creationmonth=2013-01, creationyear=2013}\n",
      "\tLoading partition {creationmonth=2011-07, creationyear=2011}\n",
      "\tLoading partition {creationmonth=2012-11, creationyear=2012}\n",
      "\tLoading partition {creationmonth=2013-08, creationyear=2013}\n",
      "\tLoading partition {creationmonth=2014-05, creationyear=2014}\n",
      "\tLoading partition {creationmonth=2015-02, creationyear=2015}\n",
      "\tLoading partition {creationmonth=2016-08, creationyear=2016}\n",
      "\tLoading partition {creationmonth=2009-08, creationyear=2009}\n",
      "\tLoading partition {creationmonth=2012-10, creationyear=2012}\n",
      "\tLoading partition {creationmonth=2013-07, creationyear=2013}\n",
      "\tLoading partition {creationmonth=2014-04, creationyear=2014}\n",
      "\tLoading partition {creationmonth=2008-12, creationyear=2008}\n",
      "\tLoading partition {creationmonth=2014-10, creationyear=2014}\n",
      "\tLoading partition {creationmonth=2015-12, creationyear=2015}\n",
      "\tLoading partition {creationmonth=2015-01, creationyear=2015}\n",
      "\tLoading partition {creationmonth=2013-02, creationyear=2013}\n",
      "\tLoading partition {creationmonth=2011-08, creationyear=2011}\n",
      "\tLoading partition {creationmonth=2012-05, creationyear=2012}\n",
      "\t Time taken for adding to write entity : 53\n",
      "Partition demodb.posts_sample{creationmonth=2008-08, creationyear=2008} stats: [numFiles=1, numRows=23, totalSize=133, rawDataSize=110]\n",
      "Partition demodb.posts_sample{creationmonth=2008-09, creationyear=2008} stats: [numFiles=1, numRows=89, totalSize=572, rawDataSize=483]\n",
      "Partition demodb.posts_sample{creationmonth=2008-10, creationyear=2008} stats: [numFiles=1, numRows=73, totalSize=511, rawDataSize=438]\n"
     ]
    },
    {
     "name": "stdout",
     "output_type": "stream",
     "text": [
      "Partition demodb.posts_sample{creationmonth=2008-11, creationyear=2008} stats: [numFiles=1, numRows=54, totalSize=378, rawDataSize=324]\n",
      "Partition demodb.posts_sample{creationmonth=2008-12, creationyear=2008} stats: [numFiles=1, numRows=51, totalSize=357, rawDataSize=306]\n",
      "Partition demodb.posts_sample{creationmonth=2009-01, creationyear=2009} stats: [numFiles=1, numRows=84, totalSize=588, rawDataSize=504]\n",
      "Partition demodb.posts_sample{creationmonth=2009-02, creationyear=2009} stats: [numFiles=1, numRows=84, totalSize=588, rawDataSize=504]\n",
      "Partition demodb.posts_sample{creationmonth=2009-03, creationyear=2009} stats: [numFiles=1, numRows=85, totalSize=595, rawDataSize=510]\n",
      "Partition demodb.posts_sample{creationmonth=2009-04, creationyear=2009} stats: [numFiles=1, numRows=97, totalSize=679, rawDataSize=582]\n",
      "Partition demodb.posts_sample{creationmonth=2009-05, creationyear=2009} stats: [numFiles=1, numRows=111, totalSize=777, rawDataSize=666]\n",
      "Partition demodb.posts_sample{creationmonth=2009-06, creationyear=2009} stats: [numFiles=1, numRows=120, totalSize=908, rawDataSize=788]\n",
      "Partition demodb.posts_sample{creationmonth=2009-07, creationyear=2009} stats: [numFiles=1, numRows=133, totalSize=1064, rawDataSize=931]\n",
      "Partition demodb.posts_sample{creationmonth=2009-08, creationyear=2009} stats: [numFiles=1, numRows=129, totalSize=1032, rawDataSize=903]\n",
      "Partition demodb.posts_sample{creationmonth=2009-09, creationyear=2009} stats: [numFiles=1, numRows=128, totalSize=1024, rawDataSize=896]\n",
      "Partition demodb.posts_sample{creationmonth=2009-10, creationyear=2009} stats: [numFiles=1, numRows=133, totalSize=1064, rawDataSize=931]\n",
      "Partition demodb.posts_sample{creationmonth=2009-11, creationyear=2009} stats: [numFiles=1, numRows=149, totalSize=1192, rawDataSize=1043]\n",
      "Partition demodb.posts_sample{creationmonth=2009-12, creationyear=2009} stats: [numFiles=1, numRows=147, totalSize=1176, rawDataSize=1029]\n",
      "Partition demodb.posts_sample{creationmonth=2010-01, creationyear=2010} stats: [numFiles=1, numRows=175, totalSize=1400, rawDataSize=1225]\n",
      "Partition demodb.posts_sample{creationmonth=2010-02, creationyear=2010} stats: [numFiles=1, numRows=162, totalSize=1296, rawDataSize=1134]\n",
      "Partition demodb.posts_sample{creationmonth=2010-03, creationyear=2010} stats: [numFiles=1, numRows=190, totalSize=1520, rawDataSize=1330]\n",
      "Partition demodb.posts_sample{creationmonth=2010-04, creationyear=2010} stats: [numFiles=1, numRows=179, totalSize=1432, rawDataSize=1253]\n",
      "Partition demodb.posts_sample{creationmonth=2010-05, creationyear=2010} stats: [numFiles=1, numRows=168, totalSize=1344, rawDataSize=1176]\n",
      "Partition demodb.posts_sample{creationmonth=2010-06, creationyear=2010} stats: [numFiles=1, numRows=201, totalSize=1608, rawDataSize=1407]\n",
      "Partition demodb.posts_sample{creationmonth=2010-07, creationyear=2010} stats: [numFiles=1, numRows=209, totalSize=1672, rawDataSize=1463]\n",
      "Partition demodb.posts_sample{creationmonth=2010-08, creationyear=2010} stats: [numFiles=1, numRows=212, totalSize=1696, rawDataSize=1484]\n",
      "Partition demodb.posts_sample{creationmonth=2010-09, creationyear=2010} stats: [numFiles=1, numRows=208, totalSize=1664, rawDataSize=1456]\n",
      "Partition demodb.posts_sample{creationmonth=2010-10, creationyear=2010} stats: [numFiles=1, numRows=222, totalSize=1776, rawDataSize=1554]\n",
      "Partition demodb.posts_sample{creationmonth=2010-11, creationyear=2010} stats: [numFiles=1, numRows=236, totalSize=1888, rawDataSize=1652]\n",
      "Partition demodb.posts_sample{creationmonth=2010-12, creationyear=2010} stats: [numFiles=1, numRows=237, totalSize=1896, rawDataSize=1659]\n",
      "Partition demodb.posts_sample{creationmonth=2011-01, creationyear=2011} stats: [numFiles=1, numRows=276, totalSize=2208, rawDataSize=1932]\n",
      "Partition demodb.posts_sample{creationmonth=2011-02, creationyear=2011} stats: [numFiles=1, numRows=273, totalSize=2184, rawDataSize=1911]\n",
      "Partition demodb.posts_sample{creationmonth=2011-03, creationyear=2011} stats: [numFiles=1, numRows=349, totalSize=2792, rawDataSize=2443]\n",
      "Partition demodb.posts_sample{creationmonth=2011-04, creationyear=2011} stats: [numFiles=1, numRows=321, totalSize=2568, rawDataSize=2247]\n",
      "Partition demodb.posts_sample{creationmonth=2011-05, creationyear=2011} stats: [numFiles=1, numRows=327, totalSize=2616, rawDataSize=2289]\n",
      "Partition demodb.posts_sample{creationmonth=2011-06, creationyear=2011} stats: [numFiles=1, numRows=340, totalSize=2720, rawDataSize=2380]\n",
      "Partition demodb.posts_sample{creationmonth=2011-07, creationyear=2011} stats: [numFiles=1, numRows=335, totalSize=2680, rawDataSize=2345]\n",
      "Partition demodb.posts_sample{creationmonth=2011-08, creationyear=2011} stats: [numFiles=1, numRows=362, totalSize=2896, rawDataSize=2534]\n",
      "Partition demodb.posts_sample{creationmonth=2011-09, creationyear=2011} stats: [numFiles=1, numRows=343, totalSize=2744, rawDataSize=2401]\n",
      "Partition demodb.posts_sample{creationmonth=2011-10, creationyear=2011} stats: [numFiles=1, numRows=331, totalSize=2648, rawDataSize=2317]\n",
      "Partition demodb.posts_sample{creationmonth=2011-11, creationyear=2011} stats: [numFiles=1, numRows=361, totalSize=2888, rawDataSize=2527]\n",
      "Partition demodb.posts_sample{creationmonth=2011-12, creationyear=2011} stats: [numFiles=1, numRows=350, totalSize=2800, rawDataSize=2450]\n",
      "Partition demodb.posts_sample{creationmonth=2012-01, creationyear=2012} stats: [numFiles=1, numRows=377, totalSize=3016, rawDataSize=2639]\n",
      "Partition demodb.posts_sample{creationmonth=2012-02, creationyear=2012} stats: [numFiles=1, numRows=412, totalSize=3296, rawDataSize=2884]\n",
      "Partition demodb.posts_sample{creationmonth=2012-03, creationyear=2012} stats: [numFiles=1, numRows=432, totalSize=3456, rawDataSize=3024]\n",
      "Partition demodb.posts_sample{creationmonth=2012-04, creationyear=2012} stats: [numFiles=1, numRows=412, totalSize=3672, rawDataSize=3260]\n",
      "Partition demodb.posts_sample{creationmonth=2012-05, creationyear=2012} stats: [numFiles=1, numRows=429, totalSize=3861, rawDataSize=3432]\n",
      "Partition demodb.posts_sample{creationmonth=2012-06, creationyear=2012} stats: [numFiles=1, numRows=412, totalSize=3708, rawDataSize=3296]\n",
      "Partition demodb.posts_sample{creationmonth=2012-07, creationyear=2012} stats: [numFiles=1, numRows=445, totalSize=4005, rawDataSize=3560]\n",
      "Partition demodb.posts_sample{creationmonth=2012-08, creationyear=2012} stats: [numFiles=1, numRows=445, totalSize=4005, rawDataSize=3560]\n",
      "Partition demodb.posts_sample{creationmonth=2012-09, creationyear=2012} stats: [numFiles=1, numRows=399, totalSize=3591, rawDataSize=3192]\n",
      "Partition demodb.posts_sample{creationmonth=2012-10, creationyear=2012} stats: [numFiles=1, numRows=469, totalSize=4221, rawDataSize=3752]\n",
      "Partition demodb.posts_sample{creationmonth=2012-11, creationyear=2012} stats: [numFiles=1, numRows=438, totalSize=3942, rawDataSize=3504]\n",
      "Partition demodb.posts_sample{creationmonth=2012-12, creationyear=2012} stats: [numFiles=1, numRows=415, totalSize=3735, rawDataSize=3320]\n",
      "Partition demodb.posts_sample{creationmonth=2013-01, creationyear=2013} stats: [numFiles=1, numRows=484, totalSize=4356, rawDataSize=3872]\n",
      "Partition demodb.posts_sample{creationmonth=2013-02, creationyear=2013} stats: [numFiles=1, numRows=474, totalSize=4266, rawDataSize=3792]\n",
      "Partition demodb.posts_sample{creationmonth=2013-03, creationyear=2013} stats: [numFiles=1, numRows=533, totalSize=4797, rawDataSize=4264]\n",
      "Partition demodb.posts_sample{creationmonth=2013-04, creationyear=2013} stats: [numFiles=1, numRows=529, totalSize=4761, rawDataSize=4232]\n",
      "Partition demodb.posts_sample{creationmonth=2013-05, creationyear=2013} stats: [numFiles=1, numRows=520, totalSize=4680, rawDataSize=4160]\n",
      "Partition demodb.posts_sample{creationmonth=2013-06, creationyear=2013} stats: [numFiles=1, numRows=477, totalSize=4293, rawDataSize=3816]\n",
      "Partition demodb.posts_sample{creationmonth=2013-07, creationyear=2013} stats: [numFiles=1, numRows=550, totalSize=4950, rawDataSize=4400]\n",
      "Partition demodb.posts_sample{creationmonth=2013-08, creationyear=2013} stats: [numFiles=1, numRows=531, totalSize=4779, rawDataSize=4248]\n",
      "Partition demodb.posts_sample{creationmonth=2013-09, creationyear=2013} stats: [numFiles=1, numRows=511, totalSize=4599, rawDataSize=4088]\n",
      "Partition demodb.posts_sample{creationmonth=2013-10, creationyear=2013} stats: [numFiles=1, numRows=570, totalSize=5130, rawDataSize=4560]\n",
      "Partition demodb.posts_sample{creationmonth=2013-11, creationyear=2013} stats: [numFiles=1, numRows=543, totalSize=4887, rawDataSize=4344]\n",
      "Partition demodb.posts_sample{creationmonth=2013-12, creationyear=2013} stats: [numFiles=1, numRows=513, totalSize=4617, rawDataSize=4104]\n",
      "Partition demodb.posts_sample{creationmonth=2014-01, creationyear=2014} stats: [numFiles=1, numRows=595, totalSize=5355, rawDataSize=4760]\n",
      "Partition demodb.posts_sample{creationmonth=2014-02, creationyear=2014} stats: [numFiles=1, numRows=585, totalSize=5265, rawDataSize=4680]\n",
      "Partition demodb.posts_sample{creationmonth=2014-03, creationyear=2014} stats: [numFiles=1, numRows=624, totalSize=5616, rawDataSize=4992]\n",
      "Partition demodb.posts_sample{creationmonth=2014-04, creationyear=2014} stats: [numFiles=1, numRows=593, totalSize=5337, rawDataSize=4744]\n",
      "Partition demodb.posts_sample{creationmonth=2014-05, creationyear=2014} stats: [numFiles=1, numRows=541, totalSize=4869, rawDataSize=4328]\n",
      "Partition demodb.posts_sample{creationmonth=2014-06, creationyear=2014} stats: [numFiles=1, numRows=487, totalSize=4383, rawDataSize=3896]\n",
      "Partition demodb.posts_sample{creationmonth=2014-07, creationyear=2014} stats: [numFiles=1, numRows=536, totalSize=4824, rawDataSize=4288]\n",
      "Partition demodb.posts_sample{creationmonth=2014-08, creationyear=2014} stats: [numFiles=1, numRows=495, totalSize=4455, rawDataSize=3960]\n",
      "Partition demodb.posts_sample{creationmonth=2014-09, creationyear=2014} stats: [numFiles=1, numRows=502, totalSize=4518, rawDataSize=4016]\n",
      "Partition demodb.posts_sample{creationmonth=2014-10, creationyear=2014} stats: [numFiles=1, numRows=527, totalSize=4743, rawDataSize=4216]\n",
      "Partition demodb.posts_sample{creationmonth=2014-11, creationyear=2014} stats: [numFiles=1, numRows=501, totalSize=4509, rawDataSize=4008]\n",
      "Partition demodb.posts_sample{creationmonth=2014-12, creationyear=2014} stats: [numFiles=1, numRows=482, totalSize=4338, rawDataSize=3856]\n"
     ]
    },
    {
     "name": "stdout",
     "output_type": "stream",
     "text": [
      "Partition demodb.posts_sample{creationmonth=2015-01, creationyear=2015} stats: [numFiles=1, numRows=502, totalSize=4518, rawDataSize=4016]\n",
      "Partition demodb.posts_sample{creationmonth=2015-02, creationyear=2015} stats: [numFiles=1, numRows=506, totalSize=4554, rawDataSize=4048]\n",
      "Partition demodb.posts_sample{creationmonth=2015-03, creationyear=2015} stats: [numFiles=1, numRows=568, totalSize=5112, rawDataSize=4544]\n",
      "Partition demodb.posts_sample{creationmonth=2015-04, creationyear=2015} stats: [numFiles=1, numRows=581, totalSize=5229, rawDataSize=4648]\n",
      "Partition demodb.posts_sample{creationmonth=2015-05, creationyear=2015} stats: [numFiles=1, numRows=566, totalSize=5094, rawDataSize=4528]\n",
      "Partition demodb.posts_sample{creationmonth=2015-06, creationyear=2015} stats: [numFiles=1, numRows=570, totalSize=5130, rawDataSize=4560]\n",
      "Partition demodb.posts_sample{creationmonth=2015-07, creationyear=2015} stats: [numFiles=1, numRows=585, totalSize=5265, rawDataSize=4680]\n",
      "Partition demodb.posts_sample{creationmonth=2015-08, creationyear=2015} stats: [numFiles=1, numRows=554, totalSize=4986, rawDataSize=4432]\n",
      "Partition demodb.posts_sample{creationmonth=2015-09, creationyear=2015} stats: [numFiles=1, numRows=536, totalSize=4824, rawDataSize=4288]\n",
      "Partition demodb.posts_sample{creationmonth=2015-10, creationyear=2015} stats: [numFiles=1, numRows=561, totalSize=5049, rawDataSize=4488]\n",
      "Partition demodb.posts_sample{creationmonth=2015-11, creationyear=2015} stats: [numFiles=1, numRows=529, totalSize=4761, rawDataSize=4232]\n",
      "Partition demodb.posts_sample{creationmonth=2015-12, creationyear=2015} stats: [numFiles=1, numRows=537, totalSize=4833, rawDataSize=4296]\n",
      "Partition demodb.posts_sample{creationmonth=2016-01, creationyear=2016} stats: [numFiles=1, numRows=582, totalSize=5238, rawDataSize=4656]\n",
      "Partition demodb.posts_sample{creationmonth=2016-02, creationyear=2016} stats: [numFiles=1, numRows=592, totalSize=5328, rawDataSize=4736]\n",
      "Partition demodb.posts_sample{creationmonth=2016-03, creationyear=2016} stats: [numFiles=1, numRows=638, totalSize=5742, rawDataSize=5104]\n",
      "Partition demodb.posts_sample{creationmonth=2016-04, creationyear=2016} stats: [numFiles=1, numRows=619, totalSize=5571, rawDataSize=4952]\n",
      "Partition demodb.posts_sample{creationmonth=2016-05, creationyear=2016} stats: [numFiles=1, numRows=603, totalSize=5427, rawDataSize=4824]\n",
      "Partition demodb.posts_sample{creationmonth=2016-06, creationyear=2016} stats: [numFiles=1, numRows=584, totalSize=5256, rawDataSize=4672]\n",
      "Partition demodb.posts_sample{creationmonth=2016-07, creationyear=2016} stats: [numFiles=1, numRows=562, totalSize=5058, rawDataSize=4496]\n",
      "Partition demodb.posts_sample{creationmonth=2016-08, creationyear=2016} stats: [numFiles=1, numRows=571, totalSize=5139, rawDataSize=4568]\n",
      "Partition demodb.posts_sample{creationmonth=2016-09, creationyear=2016} stats: [numFiles=1, numRows=545, totalSize=4905, rawDataSize=4360]\n",
      "Partition demodb.posts_sample{creationmonth=2016-10, creationyear=2016} stats: [numFiles=1, numRows=554, totalSize=4986, rawDataSize=4432]\n",
      "Partition demodb.posts_sample{creationmonth=2016-11, creationyear=2016} stats: [numFiles=1, numRows=562, totalSize=5058, rawDataSize=4496]\n",
      "Partition demodb.posts_sample{creationmonth=2016-12, creationyear=2016} stats: [numFiles=1, numRows=195, totalSize=1755, rawDataSize=1560]\n",
      "Partition demodb.posts_sample{creationmonth=__HIVE_DEFAULT_PARTITION__, creationyear=__HIVE_DEFAULT_PARTITION__} stats: [numFiles=1, numRows=384, totalSize=1152, rawDataSize=768]\n",
      "MapReduce Jobs Launched: \n",
      "Stage-Stage-1: Map: 1   Cumulative CPU: 34.85 sec   HDFS Read: 60003205 HDFS Write: 350696 SUCCESS\n",
      "Total MapReduce CPU Time Spent: 34 seconds 850 msec\n",
      "OK\n",
      "Time taken: 98.67 seconds\n"
     ]
    }
   ],
   "source": [
    "!hive -f task1_insert_table.hql"
   ]
  },
  {
   "cell_type": "markdown",
   "metadata": {
    "colab_type": "text",
    "id": "_QZWORJwJ5t4"
   },
   "source": [
    "Make sure that your table contains appropriate data about posts"
   ]
  },
  {
   "cell_type": "code",
   "execution_count": 15,
   "metadata": {
    "colab": {
     "autoexec": {
      "startup": false,
      "wait_interval": 0
     }
    },
    "colab_type": "code",
    "id": "1ySBr38iJ5t7"
   },
   "outputs": [
    {
     "name": "stdout",
     "output_type": "stream",
     "text": [
      "Writing task1_watch_new_table.hql\n"
     ]
    }
   ],
   "source": [
    "%%writefile task1_watch_new_table.hql\n",
    "-- Your code here\n",
    "SELECT * FROM demodb.posts_sample\n",
    "LIMIT 10;"
   ]
  },
  {
   "cell_type": "code",
   "execution_count": 16,
   "metadata": {},
   "outputs": [
    {
     "name": "stdout",
     "output_type": "stream",
     "text": [
      "\n",
      "Logging initialized using configuration in jar:file:/usr/local/apache-hive-1.1.0-bin/lib/hive-common-1.1.0.jar!/hive-log4j.properties\n",
      "OK\n",
      "1394\t2008-08\t2008\n",
      "3543\t2008-08\t2008\n",
      "4521\t2008-08\t2008\n",
      "8689\t2008-08\t2008\n",
      "9062\t2008-08\t2008\n",
      "14671\t2008-08\t2008\n",
      "16307\t2008-08\t2008\n",
      "18780\t2008-08\t2008\n",
      "18929\t2008-08\t2008\n",
      "19668\t2008-08\t2008\n",
      "Time taken: 3.076 seconds, Fetched: 10 row(s)\n"
     ]
    }
   ],
   "source": [
    "!hive -f task1_watch_new_table.hql"
   ]
  },
  {
   "cell_type": "markdown",
   "metadata": {
    "colab_type": "text",
    "id": "6qpvRyrvJ5t_"
   },
   "source": [
    "Take the third row of the dataset in the ascending order for the posts (firstly by year, after that by month)"
   ]
  },
  {
   "cell_type": "code",
   "execution_count": 61,
   "metadata": {
    "colab": {
     "autoexec": {
      "startup": false,
      "wait_interval": 0
     }
    },
    "colab_type": "code",
    "id": "IptrKDK8J5t_"
   },
   "outputs": [
    {
     "name": "stdout",
     "output_type": "stream",
     "text": [
      "Overwriting task1_result.hql\n"
     ]
    }
   ],
   "source": [
    "%%writefile task1_result.hql\n",
    "-- Your code here\n",
    "with cte as (\n",
    "    select count(*) as total, CreationYear, CreationMonth\n",
    "    from demodb.posts_sample\n",
    "    group by CreationYear, CreationMonth\n",
    "), cte2 as (\n",
    "    select total, CreationYear, CreationMonth,\n",
    "        dense_rank() over (order by CreationMonth) as rang\n",
    "    from cte\n",
    ")\n",
    "select CreationYear, CreationMonth, total\n",
    "from cte2\n",
    "where rang=3;\n"
   ]
  },
  {
   "cell_type": "code",
   "execution_count": 62,
   "metadata": {},
   "outputs": [
    {
     "name": "stdout",
     "output_type": "stream",
     "text": [
      "\n",
      "Logging initialized using configuration in jar:file:/usr/local/apache-hive-1.1.0-bin/lib/hive-common-1.1.0.jar!/hive-log4j.properties\n",
      "Query ID = jovyan_20190515085353_7b1fa961-b82d-441e-a5d6-f16dfe911d53\n",
      "Total jobs = 2\n",
      "Launching Job 1 out of 2\n",
      "Number of reduce tasks not specified. Estimated from input data size: 1\n",
      "In order to change the average load for a reducer (in bytes):\n",
      "  set hive.exec.reducers.bytes.per.reducer=<number>\n",
      "In order to limit the maximum number of reducers:\n",
      "  set hive.exec.reducers.max=<number>\n",
      "In order to set a constant number of reducers:\n",
      "  set mapreduce.job.reduces=<number>\n",
      "Starting Job = job_1557896819805_0027, Tracking URL = http://b43f8bc3608b:8088/proxy/application_1557896819805_0027/\n",
      "Kill Command = /opt/hadoop/bin/hadoop job  -kill job_1557896819805_0027\n",
      "Hadoop job information for Stage-1: number of mappers: 1; number of reducers: 1\n",
      "2019-05-15 08:53:36,376 Stage-1 map = 0%,  reduce = 0%\n",
      "2019-05-15 08:53:45,105 Stage-1 map = 100%,  reduce = 0%, Cumulative CPU 6.63 sec\n",
      "2019-05-15 08:53:53,834 Stage-1 map = 100%,  reduce = 100%, Cumulative CPU 9.9 sec\n",
      "MapReduce Total cumulative CPU time: 9 seconds 900 msec\n",
      "Ended Job = job_1557896819805_0027\n",
      "Launching Job 2 out of 2\n",
      "Number of reduce tasks not specified. Estimated from input data size: 1\n",
      "In order to change the average load for a reducer (in bytes):\n",
      "  set hive.exec.reducers.bytes.per.reducer=<number>\n",
      "In order to limit the maximum number of reducers:\n",
      "  set hive.exec.reducers.max=<number>\n",
      "In order to set a constant number of reducers:\n",
      "  set mapreduce.job.reduces=<number>\n",
      "Starting Job = job_1557896819805_0028, Tracking URL = http://b43f8bc3608b:8088/proxy/application_1557896819805_0028/\n",
      "Kill Command = /opt/hadoop/bin/hadoop job  -kill job_1557896819805_0028\n",
      "Hadoop job information for Stage-2: number of mappers: 1; number of reducers: 1\n",
      "2019-05-15 08:54:10,836 Stage-2 map = 0%,  reduce = 0%\n",
      "2019-05-15 08:54:18,373 Stage-2 map = 100%,  reduce = 0%, Cumulative CPU 2.5 sec\n",
      "2019-05-15 08:54:27,092 Stage-2 map = 100%,  reduce = 100%, Cumulative CPU 8.56 sec\n",
      "MapReduce Total cumulative CPU time: 8 seconds 560 msec\n",
      "Ended Job = job_1557896819805_0028\n",
      "MapReduce Jobs Launched: \n",
      "Stage-Stage-1: Map: 1  Reduce: 1   Cumulative CPU: 9.9 sec   HDFS Read: 397593 HDFS Write: 3482 SUCCESS\n",
      "Stage-Stage-2: Map: 1  Reduce: 1   Cumulative CPU: 8.56 sec   HDFS Read: 10603 HDFS Write: 16 SUCCESS\n",
      "Total MapReduce CPU Time Spent: 18 seconds 460 msec\n",
      "OK\n",
      "2008\t2008-10\t73\n",
      "Time taken: 72.019 seconds, Fetched: 1 row(s)\n"
     ]
    }
   ],
   "source": [
    "!hive -f task1_result.hql"
   ]
  },
  {
   "cell_type": "markdown",
   "metadata": {
    "colab_type": "text",
    "id": "FJTsCVTkJ5uC"
   },
   "source": [
    "## Step 5. Submission part. Do not touch!! And simple run all cells below!"
   ]
  },
  {
   "cell_type": "markdown",
   "metadata": {
    "colab_type": "text",
    "id": "k90P-CwSJ5uC"
   },
   "source": [
    "Copy your notebook from the steps <a href=\"#Step-4.-Complete-the-assignment\">Step 4</a> and <a href=\"#Step-5.-Submission-part.-Do-not-touch!!-And-simple-run-all-cells-below!\">Step 5</a> to the new notebook. Run all the cells! And submit the copied notebook!"
   ]
  },
  {
   "cell_type": "code",
   "execution_count": null,
   "metadata": {
    "colab": {
     "autoexec": {
      "startup": false,
      "wait_interval": 0
     }
    },
    "colab_type": "code",
    "id": "76fguZmgJ5uD"
   },
   "outputs": [],
   "source": [
    "!cat task1_create_external_table.hql > task1.hql\n",
    "!cat task1_create_managed_table.hql >> task1.hql\n",
    "!cat task1_insert_table.hql >> task1.hql\n",
    "!cat task1_result.hql >> task1.hql"
   ]
  },
  {
   "cell_type": "markdown",
   "metadata": {
    "colab_type": "text",
    "id": "KK3zjw7EJ5uF"
   },
   "source": [
    "Take a look at your submission query!"
   ]
  },
  {
   "cell_type": "code",
   "execution_count": null,
   "metadata": {
    "colab": {
     "autoexec": {
      "startup": false,
      "wait_interval": 0
     }
    },
    "colab_type": "code",
    "id": "CLawbwF4J5uG"
   },
   "outputs": [],
   "source": [
    "!cat task1.hql"
   ]
  },
  {
   "cell_type": "code",
   "execution_count": null,
   "metadata": {
    "colab": {
     "autoexec": {
      "startup": false,
      "wait_interval": 0
     }
    },
    "colab_type": "code",
    "id": "GGO0BjtzJ5uI"
   },
   "outputs": [],
   "source": [
    "%%javascript\n",
    "\n",
    "$(document).ready(function() {\n",
    "    console.log('Ready');\n",
    "    \n",
    "    \n",
    "    function is_hive_command(list_tokens) {\n",
    "        return list_tokens.indexOf('hive') > -1 && \n",
    "             list_tokens.indexOf('f') > -1 &&\n",
    "             list_tokens.indexOf('-') > -1 && \n",
    "             list_tokens.indexOf('!') > -1 &&\n",
    "             list_tokens.indexOf('hql') > -1 && \n",
    "             list_tokens.indexOf('writefile') == -1;\n",
    "    } \n",
    "    \n",
    "    function collectText(input_tag) {\n",
    "\n",
    "        var result_string = [];\n",
    "        $.each($(input_tag).children(), function(index, child) {\n",
    "            result_string.push($(child).text());\n",
    "        });\n",
    "        return [result_string, is_hive_command(result_string)];\n",
    "    };\n",
    "    \n",
    "    var filtered_results = $(\".cell.code_cell.rendered\").filter(function(index, element) {\n",
    "        var out = collectText($(element).find('.CodeMirror-line').find('span'));\n",
    "        console.log(out);\n",
    "        return collectText($(element).find('.CodeMirror-line').find('span'))[1];\n",
    "    });\n",
    "    $(filtered_results).remove();\n",
    "});"
   ]
  },
  {
   "cell_type": "code",
   "execution_count": null,
   "metadata": {
    "colab": {
     "autoexec": {
      "startup": false,
      "wait_interval": 0
     }
    },
    "colab_type": "code",
    "id": "unTiTnY_J5uK"
   },
   "outputs": [],
   "source": [
    "%%bash\n",
    "!hive -f task1.hql"
   ]
  },
  {
   "cell_type": "markdown",
   "metadata": {
    "colab_type": "text",
    "id": "OwS_Hbx3J5uL"
   },
   "source": [
    "Congratulations! You have completed the assignment! Now you can submit it to the system and get your results!\n",
    "\n",
    "Copy your notebook from the steps <a href=\"#Step-4.-Complete-the-assignment\">Step 4</a> and <a href=\"#Step-5.-Submission-part.-Do-not-touch!!-And-simple-run-all-cells-below!\">Step 5</a> to the new notebook. Run all the cells! And submit the copied notebook!"
   ]
  }
 ],
 "metadata": {
  "colab": {
   "collapsed_sections": [],
   "default_view": {},
   "name": "901_to_students.ipynb",
   "provenance": [],
   "toc_visible": true,
   "version": "0.3.2",
   "views": {}
  },
  "kernelspec": {
   "display_name": "Python 3",
   "language": "python",
   "name": "python3"
  },
  "language_info": {
   "codemirror_mode": {
    "name": "ipython",
    "version": 3
   },
   "file_extension": ".py",
   "mimetype": "text/x-python",
   "name": "python",
   "nbconvert_exporter": "python",
   "pygments_lexer": "ipython3",
   "version": "3.6.2"
  }
 },
 "nbformat": 4,
 "nbformat_minor": 1
}
