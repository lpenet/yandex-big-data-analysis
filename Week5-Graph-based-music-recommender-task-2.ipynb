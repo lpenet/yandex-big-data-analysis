{
 "cells": [
  {
   "cell_type": "code",
   "execution_count": 1,
   "metadata": {},
   "outputs": [],
   "source": [
    "import os\n",
    "#execfile(os.path.join(os.environ[\"SPARK_HOME\"], 'python/pyspark/shell.py'))"
   ]
  },
  {
   "cell_type": "code",
   "execution_count": 2,
   "metadata": {},
   "outputs": [],
   "source": [
    "from pyspark.sql import SparkSession\n",
    "sparkSession = SparkSession.builder.enableHiveSupport().master(\"local\").getOrCreate()"
   ]
  },
  {
   "cell_type": "code",
   "execution_count": 3,
   "metadata": {},
   "outputs": [
    {
     "name": "stdout",
     "output_type": "stream",
     "text": [
      "root\n",
      " |-- userId: integer (nullable = true)\n",
      " |-- trackId: integer (nullable = true)\n",
      " |-- artistId: integer (nullable = true)\n",
      " |-- timestamp: long (nullable = true)\n",
      "\n"
     ]
    }
   ],
   "source": [
    "playHistoryPath = '/data/sample264'\n",
    "playHistoryGraph = sparkSession.read.parquet(playHistoryPath)\n",
    "playHistoryGraph.printSchema()"
   ]
  },
  {
   "cell_type": "code",
   "execution_count": 4,
   "metadata": {},
   "outputs": [
    {
     "name": "stdout",
     "output_type": "stream",
     "text": [
      "root\n",
      " |-- type: string (nullable = true)\n",
      " |-- Name: string (nullable = true)\n",
      " |-- Artist: string (nullable = true)\n",
      " |-- Id: integer (nullable = true)\n",
      "\n"
     ]
    }
   ],
   "source": [
    "metaDataPath = '/data/meta'\n",
    "metaDataGraph = sparkSession.read.parquet(metaDataPath)\n",
    "metaDataGraph.printSchema()"
   ]
  },
  {
   "cell_type": "code",
   "execution_count": 5,
   "metadata": {},
   "outputs": [],
   "source": [
    "playHistoryGraph.createTempView(\"history1\")\n",
    "playHistoryGraph.createTempView(\"history2\")"
   ]
  },
  {
   "cell_type": "code",
   "execution_count": 6,
   "metadata": {},
   "outputs": [],
   "source": [
    "from pyspark.sql.functions import count, col\n",
    "\n",
    "consecutiveTracksForUser = sparkSession.sql( \\\n",
    "    \"select h1.trackId as track1, h2.trackId as track2, h1.userId as user \" \\\n",
    "    \"from history1 h1, history2 h2 \" \\\n",
    "    \"where h1.userId = h2.userId \" \\\n",
    "    \"and h1.trackId != h2.trackId \" \\\n",
    "    \"and abs(h2.timestamp - h1.timestamp) <= 420 \" \\\n",
    ").groupBy(col(\"track1\"), col(\"track2\")) \\\n",
    ".count().alias(\"count\") \\\n",
    ".orderBy(col(\"track1\"), col(\"track2\")) \\\n",
    ".cache()"
   ]
  },
  {
   "cell_type": "code",
   "execution_count": 23,
   "metadata": {},
   "outputs": [
    {
     "name": "stdout",
     "output_type": "stream",
     "text": [
      "+------+------+-----+\n",
      "|track1|track2|count|\n",
      "+------+------+-----+\n",
      "|798256|923706|    1|\n",
      "|798258|808254|    1|\n",
      "|798258|810685|    1|\n",
      "|798261|911939|    3|\n",
      "|798261|916840|    1|\n",
      "|798261|943188|    1|\n",
      "|798290|880442|    1|\n",
      "|798290|906999|    1|\n",
      "|798302|836228|    1|\n",
      "|798302|893311|    1|\n",
      "|798311|864601|    1|\n",
      "|798311|903496|    1|\n",
      "|798319|837992|    1|\n",
      "|798322|876562|    1|\n",
      "|798331|827364|    1|\n",
      "|798335|840741|    1|\n",
      "|798372|815418|    1|\n",
      "|798372|820446|    1|\n",
      "|798372|823661|    1|\n",
      "|798372|907153|    1|\n",
      "+------+------+-----+\n",
      "only showing top 20 rows\n",
      "\n"
     ]
    }
   ],
   "source": [
    "#consecutiveTracksForUser.show()"
   ]
  },
  {
   "cell_type": "code",
   "execution_count": 29,
   "metadata": {},
   "outputs": [],
   "source": [
    "from pyspark.sql import Window\n",
    "from pyspark.sql.functions import col, row_number, sum\n",
    "\n",
    "window = Window.partitionBy(\"track1\").orderBy(col(\"count\").desc())\n",
    "       \n",
    "topsDF = consecutiveTracksForUser.withColumn(\"row_number\", row_number().over(window)) \\\n",
    "        .filter(col(\"row_number\") <= 40) \\\n",
    "        .drop(col(\"row_number\")) \\\n",
    "        .orderBy(col(\"track1\"), col(\"track2\")) \\\n",
    "        .cache()"
   ]
  },
  {
   "cell_type": "code",
   "execution_count": 30,
   "metadata": {},
   "outputs": [
    {
     "name": "stdout",
     "output_type": "stream",
     "text": [
      "+------+------+-----+\n",
      "|track1|track2|count|\n",
      "+------+------+-----+\n",
      "|798256|923706|    1|\n",
      "|798258|808254|    1|\n",
      "|798258|810685|    1|\n",
      "|798261|911939|    3|\n",
      "|798261|916840|    1|\n",
      "|798261|943188|    1|\n",
      "|798290|880442|    1|\n",
      "|798290|906999|    1|\n",
      "|798302|836228|    1|\n",
      "|798302|893311|    1|\n",
      "|798311|864601|    1|\n",
      "|798311|903496|    1|\n",
      "|798319|837992|    1|\n",
      "|798322|876562|    1|\n",
      "|798331|827364|    1|\n",
      "|798335|840741|    1|\n",
      "|798372|815418|    1|\n",
      "|798372|820446|    1|\n",
      "|798372|823661|    1|\n",
      "|798372|907153|    1|\n",
      "+------+------+-----+\n",
      "only showing top 20 rows\n",
      "\n"
     ]
    }
   ],
   "source": [
    "#topsDF.show()"
   ]
  },
  {
   "cell_type": "code",
   "execution_count": 36,
   "metadata": {},
   "outputs": [],
   "source": [
    "\n",
    "sumsDF = topsDF.groupBy(col(\"track1\")) \\\n",
    ".agg(sum(col(\"count\")).alias(\"sum_weights\")) \\\n",
    ".orderBy(\"track1\") \\\n",
    ".cache()"
   ]
  },
  {
   "cell_type": "code",
   "execution_count": 37,
   "metadata": {},
   "outputs": [
    {
     "name": "stdout",
     "output_type": "stream",
     "text": [
      "+------+-----------+\n",
      "|track1|sum_weights|\n",
      "+------+-----------+\n",
      "|798256|          1|\n",
      "|798258|          2|\n",
      "|798261|          5|\n",
      "|798290|          2|\n",
      "|798302|          2|\n",
      "|798311|          2|\n",
      "|798319|          1|\n",
      "|798322|          1|\n",
      "|798331|          1|\n",
      "|798335|          1|\n",
      "|798372|          5|\n",
      "|798374|          1|\n",
      "|798375|          2|\n",
      "|798376|          2|\n",
      "|798377|          5|\n",
      "|798379|          1|\n",
      "|798380|          1|\n",
      "|798396|          2|\n",
      "|798398|          1|\n",
      "|798403|          2|\n",
      "+------+-----------+\n",
      "only showing top 20 rows\n",
      "\n"
     ]
    }
   ],
   "source": [
    "#sumsDF.show()"
   ]
  },
  {
   "cell_type": "code",
   "execution_count": 38,
   "metadata": {},
   "outputs": [],
   "source": [
    "normalized_count = topsDF.join(sumsDF, \"track1\", \"inner\") \\\n",
    "    .withColumn(\"weight\", col(\"count\") / col(\"sum_weights\")) \\\n",
    "    .cache()\n"
   ]
  },
  {
   "cell_type": "code",
   "execution_count": 39,
   "metadata": {},
   "outputs": [
    {
     "name": "stdout",
     "output_type": "stream",
     "text": [
      "+------+------+-----+-----------+------+\n",
      "|track1|track2|count|sum_weights|weight|\n",
      "+------+------+-----+-----------+------+\n",
      "|798256|923706|    1|          1|   1.0|\n",
      "|798258|808254|    1|          2|   0.5|\n",
      "|798258|810685|    1|          2|   0.5|\n",
      "|798261|911939|    3|          5|   0.6|\n",
      "|798261|916840|    1|          5|   0.2|\n",
      "|798261|943188|    1|          5|   0.2|\n",
      "|798290|880442|    1|          2|   0.5|\n",
      "|798290|906999|    1|          2|   0.5|\n",
      "|798302|836228|    1|          2|   0.5|\n",
      "|798302|893311|    1|          2|   0.5|\n",
      "|798311|864601|    1|          2|   0.5|\n",
      "|798311|903496|    1|          2|   0.5|\n",
      "|798319|837992|    1|          1|   1.0|\n",
      "|798322|876562|    1|          1|   1.0|\n",
      "|798331|827364|    1|          1|   1.0|\n",
      "|798335|840741|    1|          1|   1.0|\n",
      "|798372|815418|    1|          5|   0.2|\n",
      "|798372|820446|    1|          5|   0.2|\n",
      "|798372|823661|    1|          5|   0.2|\n",
      "|798372|907153|    1|          5|   0.2|\n",
      "+------+------+-----+-----------+------+\n",
      "only showing top 20 rows\n",
      "\n"
     ]
    }
   ],
   "source": [
    "#normalized_count.show()"
   ]
  },
  {
   "cell_type": "code",
   "execution_count": 40,
   "metadata": {},
   "outputs": [
    {
     "name": "stdout",
     "output_type": "stream",
     "text": [
      "+------+------+-----+-----------+------+\n",
      "|track1|track2|count|sum_weights|weight|\n",
      "+------+------+-----+-----------+------+\n",
      "|798256|923706|    1|          1|   1.0|\n",
      "|798319|837992|    1|          1|   1.0|\n",
      "|798322|876562|    1|          1|   1.0|\n",
      "|798331|827364|    1|          1|   1.0|\n",
      "|798335|840741|    1|          1|   1.0|\n",
      "|798374|816874|    1|          1|   1.0|\n",
      "|798375|810685|    2|          2|   1.0|\n",
      "|798379|812055|    1|          1|   1.0|\n",
      "|798380|840113|    1|          1|   1.0|\n",
      "|798396|817687|    2|          2|   1.0|\n",
      "|798398|926302|    1|          1|   1.0|\n",
      "|798405|867217|    1|          1|   1.0|\n",
      "|798443|905923|    1|          1|   1.0|\n",
      "|798457|918918|    1|          1|   1.0|\n",
      "|798460|891840|    1|          1|   1.0|\n",
      "|798461|940379|    1|          1|   1.0|\n",
      "|798470|840814|    1|          1|   1.0|\n",
      "|798474|963162|    1|          1|   1.0|\n",
      "|798477|883244|    1|          1|   1.0|\n",
      "|798485|955521|    1|          1|   1.0|\n",
      "+------+------+-----+-----------+------+\n",
      "only showing top 20 rows\n",
      "\n"
     ]
    }
   ],
   "source": [
    "results = normalized_count.orderBy(col(\"weight\").desc(), col(\"track1\"), col(\"track2\")).limit(40)\n",
    "#results.show()"
   ]
  },
  {
   "cell_type": "code",
   "execution_count": 42,
   "metadata": {},
   "outputs": [
    {
     "name": "stdout",
     "output_type": "stream",
     "text": [
      "798256\t923706\n",
      "798319\t837992\n",
      "798322\t876562\n",
      "798331\t827364\n",
      "798335\t840741\n",
      "798374\t816874\n",
      "798375\t810685\n",
      "798379\t812055\n",
      "798380\t840113\n",
      "798396\t817687\n",
      "798398\t926302\n",
      "798405\t867217\n",
      "798443\t905923\n",
      "798457\t918918\n",
      "798460\t891840\n",
      "798461\t940379\n",
      "798470\t840814\n",
      "798474\t963162\n",
      "798477\t883244\n",
      "798485\t955521\n",
      "798505\t905671\n",
      "798545\t949238\n",
      "798550\t936295\n",
      "798626\t845438\n",
      "798691\t818279\n",
      "798692\t898823\n",
      "798702\t811440\n",
      "798704\t937570\n",
      "798725\t933147\n",
      "798738\t894170\n",
      "798745\t799665\n",
      "798782\t956938\n",
      "798801\t950802\n",
      "798820\t890393\n",
      "798833\t916319\n",
      "798865\t962662\n",
      "798931\t893574\n",
      "798946\t946408\n",
      "799012\t809997\n",
      "799024\t935246\n"
     ]
    }
   ],
   "source": [
    "results = results.select(col(\"track1\"), col(\"track2\"))\n",
    "for t1, t2 in results.collect():\n",
    "    print(\"{}\\t{}\".format(t1,t2))"
   ]
  },
  {
   "cell_type": "markdown",
   "metadata": {},
   "source": [
    "Task 2"
   ]
  },
  {
   "cell_type": "code",
   "execution_count": 8,
   "metadata": {},
   "outputs": [],
   "source": [
    "from pyspark.sql.functions import count, col\n",
    "\n",
    "tracksPerUser = sparkSession.sql( \\\n",
    "    \"select userId as user, trackId as track \" \\\n",
    "    \"from history1 \"\n",
    ").groupBy(col(\"user\"), col(\"track\")) \\\n",
    ".count().alias(\"count\") \\\n",
    ".orderBy(col(\"count\").desc(), col(\"user\"), col(\"track\")) \\\n",
    ".cache()"
   ]
  },
  {
   "cell_type": "code",
   "execution_count": 9,
   "metadata": {},
   "outputs": [
    {
     "name": "stdout",
     "output_type": "stream",
     "text": [
      "+------+------+-----+\n",
      "|  user| track|count|\n",
      "+------+------+-----+\n",
      "|668849|817132|  277|\n",
      "|560428|950984|   94|\n",
      "|767478|870292|   94|\n",
      "|278647|940362|   87|\n",
      "|770607|830615|   76|\n",
      "| 20167|857441|   75|\n",
      "|343313|967768|   69|\n",
      "|408783|830615|   67|\n",
      "|714890|915690|   67|\n",
      "|525436|954967|   66|\n",
      "|590037|885769|   62|\n",
      "|607295|878795|   62|\n",
      "|511305|858940|   60|\n",
      "|755028|870923|   60|\n",
      "|590037|825997|   54|\n",
      "|277727|830874|   52|\n",
      "|226263|841697|   51|\n",
      "|381214|862698|   48|\n",
      "|478110|824455|   48|\n",
      "|273636|967639|   47|\n",
      "+------+------+-----+\n",
      "only showing top 20 rows\n",
      "\n"
     ]
    }
   ],
   "source": [
    "tracksPerUser.show()"
   ]
  },
  {
   "cell_type": "code",
   "execution_count": 11,
   "metadata": {},
   "outputs": [],
   "source": [
    "from pyspark.sql import Window\n",
    "from pyspark.sql.functions import col, row_number, sum\n",
    "\n",
    "window = Window.partitionBy(\"user\").orderBy(col(\"count\").desc())\n",
    "       \n",
    "topsTracksPerUser = tracksPerUser.withColumn(\"row_number\", row_number().over(window)) \\\n",
    "        .filter(col(\"row_number\") <= 1000) \\\n",
    "        .drop(col(\"row_number\")) \\\n",
    "        .cache()"
   ]
  },
  {
   "cell_type": "code",
   "execution_count": 12,
   "metadata": {},
   "outputs": [],
   "source": [
    "sumsTopsTracksPerUser = topsTracksPerUser.groupBy(col(\"user\")) \\\n",
    ".agg(sum(col(\"count\")).alias(\"sum_weights\")) \\\n",
    ".orderBy(\"user\") \\\n",
    ".cache()"
   ]
  },
  {
   "cell_type": "code",
   "execution_count": 14,
   "metadata": {},
   "outputs": [],
   "source": [
    "normalized_topsTracksPerUser = topsTracksPerUser.join(sumsTopsTracksPerUser, \"user\", \"inner\") \\\n",
    "    .withColumn(\"norm_weight\", col(\"count\") / col(\"sum_weights\")) \\\n",
    "    .cache()"
   ]
  },
  {
   "cell_type": "code",
   "execution_count": 17,
   "metadata": {},
   "outputs": [],
   "source": [
    "results = normalized_topsTracksPerUser.orderBy(col(\"norm_weight\").desc(), col(\"user\"), col(\"track\")) \\\n",
    "    .limit(40) \\\n",
    "    .select(col(\"user\"),col(\"track\"))"
   ]
  },
  {
   "cell_type": "code",
   "execution_count": 18,
   "metadata": {},
   "outputs": [
    {
     "name": "stdout",
     "output_type": "stream",
     "text": [
      "66 965774\n",
      "116 867268\n",
      "128 852564\n",
      "131 880170\n",
      "195 946408\n",
      "215 860111\n",
      "235 897176\n",
      "300 857973\n",
      "321 915545\n",
      "328 943482\n",
      "333 818202\n",
      "346 864911\n",
      "356 961308\n",
      "428 943572\n",
      "431 902497\n",
      "445 831381\n",
      "488 841340\n",
      "542 815388\n",
      "617 946395\n",
      "649 901672\n",
      "658 937522\n",
      "662 881433\n",
      "698 935934\n",
      "708 952432\n",
      "746 879259\n",
      "747 879259\n",
      "776 946408\n",
      "784 806468\n",
      "806 866581\n",
      "811 948017\n",
      "837 799685\n",
      "901 871513\n",
      "923 879322\n",
      "934 940714\n",
      "957 945183\n",
      "989 878364\n",
      "999 967768\n",
      "1006 962774\n",
      "1049 849484\n",
      "1057 920458\n"
     ]
    }
   ],
   "source": [
    "for u, t in results.collect():\n",
    "    print(\"{} {}\".format(u, t))"
   ]
  }
 ],
 "metadata": {
  "kernelspec": {
   "display_name": "Python 3",
   "language": "python",
   "name": "python3"
  },
  "language_info": {
   "codemirror_mode": {
    "name": "ipython",
    "version": 3
   },
   "file_extension": ".py",
   "mimetype": "text/x-python",
   "name": "python",
   "nbconvert_exporter": "python",
   "pygments_lexer": "ipython3",
   "version": "3.6.2"
  }
 },
 "nbformat": 4,
 "nbformat_minor": 2
}
