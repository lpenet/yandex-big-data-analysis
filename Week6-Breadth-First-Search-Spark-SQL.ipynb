{
 "cells": [
  {
   "cell_type": "code",
   "execution_count": 1,
   "metadata": {},
   "outputs": [],
   "source": [
    "from pyspark.sql.types import StructType, StructField, IntegerType\n",
    "from pyspark.sql.functions import *"
   ]
  },
  {
   "cell_type": "code",
   "execution_count": 2,
   "metadata": {},
   "outputs": [],
   "source": [
    "from pyspark.sql import SparkSession\n",
    "spark = SparkSession.builder.enableHiveSupport().master(\"local[2]\").getOrCreate()"
   ]
  },
  {
   "cell_type": "code",
   "execution_count": 11,
   "metadata": {},
   "outputs": [],
   "source": [
    "schema_graph = StructType([\n",
    "    StructField(\"to_v\", IntegerType(), False),\n",
    "    StructField(\"from_v\", IntegerType(), False)\n",
    "])"
   ]
  },
  {
   "cell_type": "code",
   "execution_count": 4,
   "metadata": {},
   "outputs": [],
   "source": [
    "schema_dist = StructType([\n",
    "    StructField(\"vertex\", IntegerType(), False),\n",
    "    StructField(\"distance\", IntegerType(), False)\n",
    "])"
   ]
  },
  {
   "cell_type": "code",
   "execution_count": 12,
   "metadata": {},
   "outputs": [],
   "source": [
    "def shortest_path(v_from, v_to, dataset_path=None):\n",
    "\n",
    "    edges = spark.read.csv(dataset_path, sep=\"\\t\", schema=schema_graph)\n",
    "    edges.cache()\n",
    "\n",
    "    distances = spark.createDataFrame([(v_from, 0)], schema_dist)\n",
    "    d = 0\n",
    "    while True:\n",
    "        candidates = (distances\n",
    "                      .join(edges, distances.vertex==edges.from_v)\n",
    "                      .select(edges.to_v.alias(\"vertex\"), (distances.distance+1).alias(\"distance\")) \n",
    "                     ).cache()\n",
    "\n",
    "        new_distances = (distances\n",
    "                         .join(candidates, on=\"vertex\", how=\"full_outer\")\n",
    "                         .select(\"vertex\",\n",
    "                                 when(\n",
    "                                     distances.distance.isNotNull(), distances.distance\n",
    "                                 ).otherwise(\n",
    "                                     candidates.distance\n",
    "                                 ).alias(\"distance\"))\n",
    "                        ).persist()\n",
    "        \n",
    "        count = new_distances.where(new_distances.distance==d+1).count()\n",
    "        \n",
    "        if count > 0:\n",
    "            d += 1            \n",
    "            distances = candidates\n",
    "        else:\n",
    "            break  \n",
    "            \n",
    "        target = (new_distances\n",
    "                  .where(new_distances.vertex == v_to)\n",
    "                 ).count()\n",
    "        \n",
    "        if  target > 0:\n",
    "            break\n",
    "\n",
    "    return d"
   ]
  },
  {
   "cell_type": "code",
   "execution_count": null,
   "metadata": {},
   "outputs": [
    {
     "name": "stdout",
     "output_type": "stream",
     "text": [
      "8\n"
     ]
    }
   ],
   "source": [
    "shortest_d = shortest_path(12, 34, \"/data/twitter/twitter_sample2.txt\")\n",
    "print(shortest_d)"
   ]
  }
 ],
 "metadata": {
  "kernelspec": {
   "display_name": "Python 3",
   "language": "python",
   "name": "python3"
  },
  "language_info": {
   "codemirror_mode": {
    "name": "ipython",
    "version": 3
   },
   "file_extension": ".py",
   "mimetype": "text/x-python",
   "name": "python",
   "nbconvert_exporter": "python",
   "pygments_lexer": "ipython3",
   "version": "3.6.2"
  }
 },
 "nbformat": 4,
 "nbformat_minor": 2
}
