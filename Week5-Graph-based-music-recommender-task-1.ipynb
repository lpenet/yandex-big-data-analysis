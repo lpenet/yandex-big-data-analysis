{
 "cells": [
  {
   "cell_type": "code",
   "execution_count": 3,
   "metadata": {},
   "outputs": [],
   "source": [
    "import os\n",
    "#execfile(os.path.join(os.environ[\"SPARK_HOME\"], 'python/pyspark/shell.py'))"
   ]
  },
  {
   "cell_type": "code",
   "execution_count": 4,
   "metadata": {},
   "outputs": [],
   "source": [
    "from pyspark.sql import SparkSession\n",
    "sparkSession = SparkSession.builder.enableHiveSupport().master(\"local\").getOrCreate()"
   ]
  },
  {
   "cell_type": "code",
   "execution_count": 5,
   "metadata": {},
   "outputs": [
    {
     "name": "stdout",
     "output_type": "stream",
     "text": [
      "root\n",
      " |-- userId: integer (nullable = true)\n",
      " |-- trackId: integer (nullable = true)\n",
      " |-- artistId: integer (nullable = true)\n",
      " |-- timestamp: long (nullable = true)\n",
      "\n"
     ]
    }
   ],
   "source": [
    "playHistoryPath = '/data/sample264'\n",
    "playHistoryGraph = sparkSession.read.parquet(playHistoryPath)\n",
    "playHistoryGraph.printSchema()"
   ]
  },
  {
   "cell_type": "code",
   "execution_count": 6,
   "metadata": {},
   "outputs": [
    {
     "name": "stdout",
     "output_type": "stream",
     "text": [
      "root\n",
      " |-- type: string (nullable = true)\n",
      " |-- Name: string (nullable = true)\n",
      " |-- Artist: string (nullable = true)\n",
      " |-- Id: integer (nullable = true)\n",
      "\n"
     ]
    }
   ],
   "source": [
    "metaDataPath = '/data/meta'\n",
    "metaDataGraph = sparkSession.read.parquet(metaDataPath)\n",
    "metaDataGraph.printSchema()"
   ]
  },
  {
   "cell_type": "code",
   "execution_count": 7,
   "metadata": {},
   "outputs": [],
   "source": [
    "playHistoryGraph.createTempView(\"history1\")\n",
    "playHistoryGraph.createTempView(\"history2\")"
   ]
  },
  {
   "cell_type": "code",
   "execution_count": 22,
   "metadata": {},
   "outputs": [],
   "source": [
    "from pyspark.sql.functions import count, col\n",
    "\n",
    "consecutiveTracksForUser = sparkSession.sql( \\\n",
    "    \"select h1.trackId as track1, h2.trackId as track2, h1.userId as user \" \\\n",
    "    \"from history1 h1, history2 h2 \" \\\n",
    "    \"where h1.userId = h2.userId \" \\\n",
    "    \"and h1.trackId != h2.trackId \" \\\n",
    "    \"and abs(h2.timestamp - h1.timestamp) <= 420 \" \\\n",
    ").groupBy(col(\"track1\"), col(\"track2\")) \\\n",
    ".count().alias(\"count\") \\\n",
    ".orderBy(col(\"track1\"), col(\"track2\")) \\\n",
    ".cache()"
   ]
  },
  {
   "cell_type": "code",
   "execution_count": 23,
   "metadata": {},
   "outputs": [
    {
     "name": "stdout",
     "output_type": "stream",
     "text": [
      "+------+------+-----+\n",
      "|track1|track2|count|\n",
      "+------+------+-----+\n",
      "|798256|923706|    1|\n",
      "|798258|808254|    1|\n",
      "|798258|810685|    1|\n",
      "|798261|911939|    3|\n",
      "|798261|916840|    1|\n",
      "|798261|943188|    1|\n",
      "|798290|880442|    1|\n",
      "|798290|906999|    1|\n",
      "|798302|836228|    1|\n",
      "|798302|893311|    1|\n",
      "|798311|864601|    1|\n",
      "|798311|903496|    1|\n",
      "|798319|837992|    1|\n",
      "|798322|876562|    1|\n",
      "|798331|827364|    1|\n",
      "|798335|840741|    1|\n",
      "|798372|815418|    1|\n",
      "|798372|820446|    1|\n",
      "|798372|823661|    1|\n",
      "|798372|907153|    1|\n",
      "+------+------+-----+\n",
      "only showing top 20 rows\n",
      "\n"
     ]
    }
   ],
   "source": [
    "#consecutiveTracksForUser.show()"
   ]
  },
  {
   "cell_type": "code",
   "execution_count": 29,
   "metadata": {},
   "outputs": [],
   "source": [
    "from pyspark.sql import Window\n",
    "from pyspark.sql.functions import col, row_number, sum\n",
    "\n",
    "window = Window.partitionBy(\"track1\").orderBy(col(\"count\").desc())\n",
    "       \n",
    "topsDF = consecutiveTracksForUser.withColumn(\"row_number\", row_number().over(window)) \\\n",
    "        .filter(col(\"row_number\") <= 40) \\\n",
    "        .drop(col(\"row_number\")) \\\n",
    "        .orderBy(col(\"track1\"), col(\"track2\")) \\\n",
    "        .cache()"
   ]
  },
  {
   "cell_type": "code",
   "execution_count": 30,
   "metadata": {},
   "outputs": [
    {
     "name": "stdout",
     "output_type": "stream",
     "text": [
      "+------+------+-----+\n",
      "|track1|track2|count|\n",
      "+------+------+-----+\n",
      "|798256|923706|    1|\n",
      "|798258|808254|    1|\n",
      "|798258|810685|    1|\n",
      "|798261|911939|    3|\n",
      "|798261|916840|    1|\n",
      "|798261|943188|    1|\n",
      "|798290|880442|    1|\n",
      "|798290|906999|    1|\n",
      "|798302|836228|    1|\n",
      "|798302|893311|    1|\n",
      "|798311|864601|    1|\n",
      "|798311|903496|    1|\n",
      "|798319|837992|    1|\n",
      "|798322|876562|    1|\n",
      "|798331|827364|    1|\n",
      "|798335|840741|    1|\n",
      "|798372|815418|    1|\n",
      "|798372|820446|    1|\n",
      "|798372|823661|    1|\n",
      "|798372|907153|    1|\n",
      "+------+------+-----+\n",
      "only showing top 20 rows\n",
      "\n"
     ]
    }
   ],
   "source": [
    "#topsDF.show()"
   ]
  },
  {
   "cell_type": "code",
   "execution_count": 36,
   "metadata": {},
   "outputs": [],
   "source": [
    "\n",
    "sumsDF = topsDF.groupBy(col(\"track1\")) \\\n",
    ".agg(sum(col(\"count\")).alias(\"sum_weights\")) \\\n",
    ".orderBy(\"track1\") \\\n",
    ".cache()"
   ]
  },
  {
   "cell_type": "code",
   "execution_count": 37,
   "metadata": {},
   "outputs": [
    {
     "name": "stdout",
     "output_type": "stream",
     "text": [
      "+------+-----------+\n",
      "|track1|sum_weights|\n",
      "+------+-----------+\n",
      "|798256|          1|\n",
      "|798258|          2|\n",
      "|798261|          5|\n",
      "|798290|          2|\n",
      "|798302|          2|\n",
      "|798311|          2|\n",
      "|798319|          1|\n",
      "|798322|          1|\n",
      "|798331|          1|\n",
      "|798335|          1|\n",
      "|798372|          5|\n",
      "|798374|          1|\n",
      "|798375|          2|\n",
      "|798376|          2|\n",
      "|798377|          5|\n",
      "|798379|          1|\n",
      "|798380|          1|\n",
      "|798396|          2|\n",
      "|798398|          1|\n",
      "|798403|          2|\n",
      "+------+-----------+\n",
      "only showing top 20 rows\n",
      "\n"
     ]
    }
   ],
   "source": [
    "#sumsDF.show()"
   ]
  },
  {
   "cell_type": "code",
   "execution_count": 38,
   "metadata": {},
   "outputs": [],
   "source": [
    "normalized_count = topsDF.join(sumsDF, \"track1\", \"inner\") \\\n",
    "    .withColumn(\"weight\", col(\"count\") / col(\"sum_weights\")) \\\n",
    "    .cache()\n"
   ]
  },
  {
   "cell_type": "code",
   "execution_count": 39,
   "metadata": {},
   "outputs": [
    {
     "name": "stdout",
     "output_type": "stream",
     "text": [
      "+------+------+-----+-----------+------+\n",
      "|track1|track2|count|sum_weights|weight|\n",
      "+------+------+-----+-----------+------+\n",
      "|798256|923706|    1|          1|   1.0|\n",
      "|798258|808254|    1|          2|   0.5|\n",
      "|798258|810685|    1|          2|   0.5|\n",
      "|798261|911939|    3|          5|   0.6|\n",
      "|798261|916840|    1|          5|   0.2|\n",
      "|798261|943188|    1|          5|   0.2|\n",
      "|798290|880442|    1|          2|   0.5|\n",
      "|798290|906999|    1|          2|   0.5|\n",
      "|798302|836228|    1|          2|   0.5|\n",
      "|798302|893311|    1|          2|   0.5|\n",
      "|798311|864601|    1|          2|   0.5|\n",
      "|798311|903496|    1|          2|   0.5|\n",
      "|798319|837992|    1|          1|   1.0|\n",
      "|798322|876562|    1|          1|   1.0|\n",
      "|798331|827364|    1|          1|   1.0|\n",
      "|798335|840741|    1|          1|   1.0|\n",
      "|798372|815418|    1|          5|   0.2|\n",
      "|798372|820446|    1|          5|   0.2|\n",
      "|798372|823661|    1|          5|   0.2|\n",
      "|798372|907153|    1|          5|   0.2|\n",
      "+------+------+-----+-----------+------+\n",
      "only showing top 20 rows\n",
      "\n"
     ]
    }
   ],
   "source": [
    "#normalized_count.show()"
   ]
  },
  {
   "cell_type": "code",
   "execution_count": 40,
   "metadata": {},
   "outputs": [
    {
     "name": "stdout",
     "output_type": "stream",
     "text": [
      "+------+------+-----+-----------+------+\n",
      "|track1|track2|count|sum_weights|weight|\n",
      "+------+------+-----+-----------+------+\n",
      "|798256|923706|    1|          1|   1.0|\n",
      "|798319|837992|    1|          1|   1.0|\n",
      "|798322|876562|    1|          1|   1.0|\n",
      "|798331|827364|    1|          1|   1.0|\n",
      "|798335|840741|    1|          1|   1.0|\n",
      "|798374|816874|    1|          1|   1.0|\n",
      "|798375|810685|    2|          2|   1.0|\n",
      "|798379|812055|    1|          1|   1.0|\n",
      "|798380|840113|    1|          1|   1.0|\n",
      "|798396|817687|    2|          2|   1.0|\n",
      "|798398|926302|    1|          1|   1.0|\n",
      "|798405|867217|    1|          1|   1.0|\n",
      "|798443|905923|    1|          1|   1.0|\n",
      "|798457|918918|    1|          1|   1.0|\n",
      "|798460|891840|    1|          1|   1.0|\n",
      "|798461|940379|    1|          1|   1.0|\n",
      "|798470|840814|    1|          1|   1.0|\n",
      "|798474|963162|    1|          1|   1.0|\n",
      "|798477|883244|    1|          1|   1.0|\n",
      "|798485|955521|    1|          1|   1.0|\n",
      "+------+------+-----+-----------+------+\n",
      "only showing top 20 rows\n",
      "\n"
     ]
    }
   ],
   "source": [
    "results = normalized_count.orderBy(col(\"weight\").desc(), col(\"track1\"), col(\"track2\")).limit(40)\n",
    "#results.show()"
   ]
  },
  {
   "cell_type": "code",
   "execution_count": 42,
   "metadata": {},
   "outputs": [
    {
     "name": "stdout",
     "output_type": "stream",
     "text": [
      "798256\t923706\n",
      "798319\t837992\n",
      "798322\t876562\n",
      "798331\t827364\n",
      "798335\t840741\n",
      "798374\t816874\n",
      "798375\t810685\n",
      "798379\t812055\n",
      "798380\t840113\n",
      "798396\t817687\n",
      "798398\t926302\n",
      "798405\t867217\n",
      "798443\t905923\n",
      "798457\t918918\n",
      "798460\t891840\n",
      "798461\t940379\n",
      "798470\t840814\n",
      "798474\t963162\n",
      "798477\t883244\n",
      "798485\t955521\n",
      "798505\t905671\n",
      "798545\t949238\n",
      "798550\t936295\n",
      "798626\t845438\n",
      "798691\t818279\n",
      "798692\t898823\n",
      "798702\t811440\n",
      "798704\t937570\n",
      "798725\t933147\n",
      "798738\t894170\n",
      "798745\t799665\n",
      "798782\t956938\n",
      "798801\t950802\n",
      "798820\t890393\n",
      "798833\t916319\n",
      "798865\t962662\n",
      "798931\t893574\n",
      "798946\t946408\n",
      "799012\t809997\n",
      "799024\t935246\n"
     ]
    }
   ],
   "source": [
    "results = results.select(col(\"track1\"), col(\"track2\"))\n",
    "for t1, t2 in results.collect():\n",
    "    print(\"{}\\t{}\".format(t1,t2))"
   ]
  },
  {
   "cell_type": "code",
   "execution_count": null,
   "metadata": {},
   "outputs": [],
   "source": []
  },
  {
   "cell_type": "code",
   "execution_count": null,
   "metadata": {},
   "outputs": [],
   "source": []
  }
 ],
 "metadata": {
  "kernelspec": {
   "display_name": "Python 3",
   "language": "python",
   "name": "python3"
  }
 },
 "nbformat": 4,
 "nbformat_minor": 2
}
