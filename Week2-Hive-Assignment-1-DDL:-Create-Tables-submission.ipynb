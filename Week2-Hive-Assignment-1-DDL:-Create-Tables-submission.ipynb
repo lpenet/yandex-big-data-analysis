{
 "cells": [
  {
   "cell_type": "markdown",
   "metadata": {
    "colab_type": "text",
    "id": "ZfiL39OTJ5sR"
   },
   "source": [
    "# Hive assignment 1"
   ]
  },
  {
   "cell_type": "markdown",
   "metadata": {
    "colab_type": "text",
    "id": "VD19-0y3J5sR"
   },
   "source": [
    "The purpose of this task is to create an external table on the posts data of the `stackoverflow.com` website."
   ]
  },
  {
   "cell_type": "markdown",
   "metadata": {
    "colab_type": "text",
    "id": "agtKfzx2J5tm"
   },
   "source": [
    "## Step 4. Complete the assignment"
   ]
  },
  {
   "cell_type": "code",
   "execution_count": 1,
   "metadata": {
    "colab": {
     "autoexec": {
      "startup": false,
      "wait_interval": 0
     }
    },
    "colab_type": "code",
    "id": "jRdQeLwkJ5tn"
   },
   "outputs": [
    {
     "name": "stdout",
     "output_type": "stream",
     "text": [
      "Overwriting task1_create_external_table.hql\n"
     ]
    }
   ],
   "source": [
    "%%writefile task1_create_external_table.hql\n",
    "-- Create external table posts_sample_external with suitable values\n",
    "-- Your code here\n",
    "-- adding necessary JARs and including database\n",
    "-- ADD JAR /opt/cloudera/parcels/CDH/lib/hive/lib/hive-contrib.jar;\n",
    "-- ADD JAR /opt/cloudera/parcels/CDH/lib/hive/lib/hive-serde.jar;\n",
    "\n",
    "USE demodb;\n",
    "DROP TABLE IF EXISTS posts_sample_external;\n",
    "\n",
    "\n",
    "-- Create external table \n",
    "\n",
    "-- Your code here\n",
    "CREATE EXTERNAL TABLE posts_sample_external (\n",
    "    Id string,\n",
    "    CreationYear string,\n",
    "    CreationMonth string\n",
    ")\n",
    "ROW FORMAT\n",
    "    SERDE 'org.apache.hadoop.hive.serde2.RegexSerDe'\n",
    "    WITH SERDEPROPERTIES (\n",
    "        \"input.regex\" = '.*?(?=.*\\\\bId=\\\"(\\\\d+)\\\")(?=.*\\\\bCreationDate=\\\"(\\\\d+).*\\\")(?=.*\\\\bCreationDate=\\\"(\\\\d{4}-\\\\d+).*\\\").*' \n",
    "    )\n",
    "LOCATION '/data/stackexchange1000/posts';"
   ]
  },
  {
   "cell_type": "markdown",
   "metadata": {
    "colab_type": "text",
    "id": "XaImIBNKJ5ts"
   },
   "source": [
    "Make sure that you have created your table correctly. Select the first 10 posts from the dataset."
   ]
  },
  {
   "cell_type": "code",
   "execution_count": 2,
   "metadata": {
    "colab": {
     "autoexec": {
      "startup": false,
      "wait_interval": 0
     }
    },
    "colab_type": "code",
    "id": "2LdLWs-cJ5tt"
   },
   "outputs": [
    {
     "name": "stdout",
     "output_type": "stream",
     "text": [
      "Overwriting task1_check_select.hql\n"
     ]
    }
   ],
   "source": [
    "%%writefile task1_check_select.hql\n",
    "\n",
    "-- Write select query for the first 10 rows\n",
    "-- Your code here\n",
    "SELECT * FROM demodb.posts_sample_external\n",
    "LIMIT 10;"
   ]
  },
  {
   "cell_type": "markdown",
   "metadata": {
    "colab_type": "text",
    "id": "dqfA8StqJ5tx"
   },
   "source": [
    "Create managed table `posts_sample`. Create the partition by the month and by the year. "
   ]
  },
  {
   "cell_type": "code",
   "execution_count": 3,
   "metadata": {
    "colab": {
     "autoexec": {
      "startup": false,
      "wait_interval": 0
     }
    },
    "colab_type": "code",
    "id": "0N7DS8HaJ5tx"
   },
   "outputs": [
    {
     "name": "stdout",
     "output_type": "stream",
     "text": [
      "Overwriting task1_create_managed_table.hql\n"
     ]
    }
   ],
   "source": [
    "%%writefile task1_create_managed_table.hql\n",
    "-- create managed table\n",
    "-- Check that this table contains info about year and month\n",
    "-- Your code here\n",
    "-- adding necessary JARs and including database\n",
    "-- ADD JAR /opt/cloudera/parcels/CDH/lib/hive/lib/hive-contrib.jar;\n",
    "-- ADD JAR /opt/cloudera/parcels/CDH/lib/hive/lib/hive-serde.jar;\n",
    "\n",
    "USE demodb;\n",
    "\n",
    "DROP TABLE IF EXISTS posts_sample;\n",
    "\n",
    "CREATE TABLE posts_sample (\n",
    "    Id string\n",
    ")\n",
    "PARTITIONED BY (\n",
    "    CreationMonth string,\n",
    "    CreationYear string\n",
    ");\n"
   ]
  },
  {
   "cell_type": "markdown",
   "metadata": {
    "colab_type": "text",
    "id": "YUNkq4SXJ5t0"
   },
   "source": [
    "Populate data from the table `posts_sample_external` to the table `posts_sample`. Don't forget about the partitioning rules!"
   ]
  },
  {
   "cell_type": "code",
   "execution_count": 4,
   "metadata": {
    "colab": {
     "autoexec": {
      "startup": false,
      "wait_interval": 0
     }
    },
    "colab_type": "code",
    "id": "HdCM4rS7J5t0"
   },
   "outputs": [
    {
     "name": "stdout",
     "output_type": "stream",
     "text": [
      "Overwriting task1_insert_table.hql\n"
     ]
    }
   ],
   "source": [
    "%%writefile task1_insert_table.hql\n",
    "\n",
    "-- Insert data to the managed table\n",
    "\n",
    "USE demodb;\n",
    "-- filling managed posts table from external one\n",
    "SET hive.exec.dynamic.partition.mode=nonstrict;\n",
    "SET hive.exec.max.dynamic.partitions=2048;\n",
    "SET hive.exec.max.dynamic.partitions.pernode=256;\n",
    "SET hive.exec.max.created.files=10000;\n",
    "SET hive.enforce.bucketing=true;\n",
    "SET hive.mapred.supports.subdirectories=true;\n",
    "\n",
    "-- Your code here for inserting data\n",
    "FROM posts_sample_external pse\n",
    "INSERT overwrite table posts_sample\n",
    "PARTITION (CreationMonth, CreationYear)\n",
    "SELECT pse.Id, pse.CreationMonth, pse.CreationYear;\n",
    "\n"
   ]
  },
  {
   "cell_type": "markdown",
   "metadata": {
    "colab_type": "text",
    "id": "_QZWORJwJ5t4"
   },
   "source": [
    "Make sure that your table contains appropriate data about posts"
   ]
  },
  {
   "cell_type": "code",
   "execution_count": 5,
   "metadata": {
    "colab": {
     "autoexec": {
      "startup": false,
      "wait_interval": 0
     }
    },
    "colab_type": "code",
    "id": "1ySBr38iJ5t7"
   },
   "outputs": [
    {
     "name": "stdout",
     "output_type": "stream",
     "text": [
      "Overwriting task1_watch_new_table.hql\n"
     ]
    }
   ],
   "source": [
    "%%writefile task1_watch_new_table.hql\n",
    "-- Your code here\n",
    "SELECT * FROM demodb.posts_sample\n",
    "LIMIT 10;"
   ]
  },
  {
   "cell_type": "markdown",
   "metadata": {
    "colab_type": "text",
    "id": "6qpvRyrvJ5t_"
   },
   "source": [
    "Take the third row of the dataset in the ascending order for the posts (firstly by year, after that by month)"
   ]
  },
  {
   "cell_type": "code",
   "execution_count": 6,
   "metadata": {
    "colab": {
     "autoexec": {
      "startup": false,
      "wait_interval": 0
     }
    },
    "colab_type": "code",
    "id": "IptrKDK8J5t_"
   },
   "outputs": [
    {
     "name": "stdout",
     "output_type": "stream",
     "text": [
      "Overwriting task1_result.hql\n"
     ]
    }
   ],
   "source": [
    "%%writefile task1_result.hql\n",
    "-- Your code here\n",
    "with cte as (\n",
    "    select count(*) as total, CreationYear, CreationMonth\n",
    "    from demodb.posts_sample\n",
    "    group by CreationYear, CreationMonth\n",
    "), cte2 as (\n",
    "    select total, CreationYear, CreationMonth,\n",
    "        dense_rank() over (order by CreationMonth) as rang\n",
    "    from cte\n",
    ")\n",
    "select CreationYear, CreationMonth, total\n",
    "from cte2\n",
    "where rang=3;\n"
   ]
  },
  {
   "cell_type": "markdown",
   "metadata": {
    "colab_type": "text",
    "id": "FJTsCVTkJ5uC"
   },
   "source": [
    "## Step 5. Submission part. Do not touch!! And simple run all cells below!"
   ]
  },
  {
   "cell_type": "markdown",
   "metadata": {
    "colab_type": "text",
    "id": "k90P-CwSJ5uC"
   },
   "source": [
    "Copy your notebook from the steps <a href=\"#Step-4.-Complete-the-assignment\">Step 4</a> and <a href=\"#Step-5.-Submission-part.-Do-not-touch!!-And-simple-run-all-cells-below!\">Step 5</a> to the new notebook. Run all the cells! And submit the copied notebook!"
   ]
  },
  {
   "cell_type": "code",
   "execution_count": 7,
   "metadata": {
    "colab": {
     "autoexec": {
      "startup": false,
      "wait_interval": 0
     }
    },
    "colab_type": "code",
    "id": "76fguZmgJ5uD"
   },
   "outputs": [],
   "source": [
    "!cat task1_create_external_table.hql > task1.hql\n",
    "!cat task1_create_managed_table.hql >> task1.hql\n",
    "!cat task1_insert_table.hql >> task1.hql\n",
    "!cat task1_result.hql >> task1.hql"
   ]
  },
  {
   "cell_type": "markdown",
   "metadata": {
    "colab_type": "text",
    "id": "KK3zjw7EJ5uF"
   },
   "source": [
    "Take a look at your submission query!"
   ]
  },
  {
   "cell_type": "code",
   "execution_count": 8,
   "metadata": {
    "colab": {
     "autoexec": {
      "startup": false,
      "wait_interval": 0
     }
    },
    "colab_type": "code",
    "id": "CLawbwF4J5uG"
   },
   "outputs": [
    {
     "name": "stdout",
     "output_type": "stream",
     "text": [
      "-- Create external table posts_sample_external with suitable values\r\n",
      "-- Your code here\r\n",
      "-- adding necessary JARs and including database\r\n",
      "-- ADD JAR /opt/cloudera/parcels/CDH/lib/hive/lib/hive-contrib.jar;\r\n",
      "-- ADD JAR /opt/cloudera/parcels/CDH/lib/hive/lib/hive-serde.jar;\r\n",
      "\r\n",
      "USE demodb;\r\n",
      "DROP TABLE IF EXISTS posts_sample_external;\r\n",
      "\r\n",
      "\r\n",
      "-- Create external table \r\n",
      "\r\n",
      "-- Your code here\r\n",
      "CREATE EXTERNAL TABLE posts_sample_external (\r\n",
      "    Id string,\r\n",
      "    CreationYear string,\r\n",
      "    CreationMonth string\r\n",
      ")\r\n",
      "ROW FORMAT\r\n",
      "    SERDE 'org.apache.hadoop.hive.serde2.RegexSerDe'\r\n",
      "    WITH SERDEPROPERTIES (\r\n",
      "        \"input.regex\" = '.*?(?=.*\\\\bId=\\\"(\\\\d+)\\\")(?=.*\\\\bCreationDate=\\\"(\\\\d+).*\\\")(?=.*\\\\bCreationDate=\\\"(\\\\d{4}-\\\\d+).*\\\").*' \r\n",
      "    )\r\n",
      "LOCATION '/data/stackexchange1000/posts';-- create managed table\r\n",
      "-- Check that this table contains info about year and month\r\n",
      "-- Your code here\r\n",
      "-- adding necessary JARs and including database\r\n",
      "-- ADD JAR /opt/cloudera/parcels/CDH/lib/hive/lib/hive-contrib.jar;\r\n",
      "-- ADD JAR /opt/cloudera/parcels/CDH/lib/hive/lib/hive-serde.jar;\r\n",
      "\r\n",
      "USE demodb;\r\n",
      "\r\n",
      "DROP TABLE IF EXISTS posts_sample;\r\n",
      "\r\n",
      "CREATE TABLE posts_sample (\r\n",
      "    Id string\r\n",
      ")\r\n",
      "PARTITIONED BY (\r\n",
      "    CreationMonth string,\r\n",
      "    CreationYear string\r\n",
      ");\r\n",
      "-- Insert data to the managed table\r\n",
      "\r\n",
      "USE demodb;\r\n",
      "-- filling managed posts table from external one\r\n",
      "SET hive.exec.dynamic.partition.mode=nonstrict;\r\n",
      "SET hive.exec.max.dynamic.partitions=2048;\r\n",
      "SET hive.exec.max.dynamic.partitions.pernode=256;\r\n",
      "SET hive.exec.max.created.files=10000;\r\n",
      "SET hive.enforce.bucketing=true;\r\n",
      "SET hive.mapred.supports.subdirectories=true;\r\n",
      "\r\n",
      "-- Your code here for inserting data\r\n",
      "FROM posts_sample_external pse\r\n",
      "INSERT overwrite table posts_sample\r\n",
      "PARTITION (CreationMonth, CreationYear)\r\n",
      "SELECT pse.Id, pse.CreationMonth, pse.CreationYear;\r\n",
      "-- Your code here\r\n",
      "with cte as (\r\n",
      "    select count(*) as total, CreationYear, CreationMonth\r\n",
      "    from demodb.posts_sample\r\n",
      "    group by CreationYear, CreationMonth\r\n",
      "), cte2 as (\r\n",
      "    select total, CreationYear, CreationMonth,\r\n",
      "        dense_rank() over (order by CreationMonth) as rang\r\n",
      "    from cte\r\n",
      ")\r\n",
      "select CreationYear, CreationMonth, total\r\n",
      "from cte2\r\n",
      "where rang=3;"
     ]
    }
   ],
   "source": [
    "!cat task1.hql"
   ]
  },
  {
   "cell_type": "code",
   "execution_count": 9,
   "metadata": {
    "colab": {
     "autoexec": {
      "startup": false,
      "wait_interval": 0
     }
    },
    "colab_type": "code",
    "id": "GGO0BjtzJ5uI"
   },
   "outputs": [
    {
     "data": {
      "application/javascript": [
       "\n",
       "$(document).ready(function() {\n",
       "    console.log('Ready');\n",
       "    \n",
       "    \n",
       "    function is_hive_command(list_tokens) {\n",
       "        return list_tokens.indexOf('hive') > -1 && \n",
       "             list_tokens.indexOf('f') > -1 &&\n",
       "             list_tokens.indexOf('-') > -1 && \n",
       "             list_tokens.indexOf('!') > -1 &&\n",
       "             list_tokens.indexOf('hql') > -1 && \n",
       "             list_tokens.indexOf('writefile') == -1;\n",
       "    } \n",
       "    \n",
       "    function collectText(input_tag) {\n",
       "\n",
       "        var result_string = [];\n",
       "        $.each($(input_tag).children(), function(index, child) {\n",
       "            result_string.push($(child).text());\n",
       "        });\n",
       "        return [result_string, is_hive_command(result_string)];\n",
       "    };\n",
       "    \n",
       "    var filtered_results = $(\".cell.code_cell.rendered\").filter(function(index, element) {\n",
       "        var out = collectText($(element).find('.CodeMirror-line').find('span'));\n",
       "        console.log(out);\n",
       "        return collectText($(element).find('.CodeMirror-line').find('span'))[1];\n",
       "    });\n",
       "    $(filtered_results).remove();\n",
       "});"
      ],
      "text/plain": [
       "<IPython.core.display.Javascript object>"
      ]
     },
     "metadata": {},
     "output_type": "display_data"
    }
   ],
   "source": [
    "%%javascript\n",
    "\n",
    "$(document).ready(function() {\n",
    "    console.log('Ready');\n",
    "    \n",
    "    \n",
    "    function is_hive_command(list_tokens) {\n",
    "        return list_tokens.indexOf('hive') > -1 && \n",
    "             list_tokens.indexOf('f') > -1 &&\n",
    "             list_tokens.indexOf('-') > -1 && \n",
    "             list_tokens.indexOf('!') > -1 &&\n",
    "             list_tokens.indexOf('hql') > -1 && \n",
    "             list_tokens.indexOf('writefile') == -1;\n",
    "    } \n",
    "    \n",
    "    function collectText(input_tag) {\n",
    "\n",
    "        var result_string = [];\n",
    "        $.each($(input_tag).children(), function(index, child) {\n",
    "            result_string.push($(child).text());\n",
    "        });\n",
    "        return [result_string, is_hive_command(result_string)];\n",
    "    };\n",
    "    \n",
    "    var filtered_results = $(\".cell.code_cell.rendered\").filter(function(index, element) {\n",
    "        var out = collectText($(element).find('.CodeMirror-line').find('span'));\n",
    "        console.log(out);\n",
    "        return collectText($(element).find('.CodeMirror-line').find('span'))[1];\n",
    "    });\n",
    "    $(filtered_results).remove();\n",
    "});"
   ]
  },
  {
   "cell_type": "code",
   "execution_count": 10,
   "metadata": {},
   "outputs": [
    {
     "name": "stdout",
     "output_type": "stream",
     "text": [
      "2008\t2008-10\t73\n"
     ]
    },
    {
     "name": "stderr",
     "output_type": "stream",
     "text": [
      "\n",
      "Logging initialized using configuration in jar:file:/usr/local/apache-hive-1.1.0-bin/lib/hive-common-1.1.0.jar!/hive-log4j.properties\n",
      "OK\n",
      "Time taken: 1.096 seconds\n",
      "OK\n",
      "Time taken: 0.124 seconds\n",
      "OK\n",
      "Time taken: 0.888 seconds\n",
      "OK\n",
      "Time taken: 0.023 seconds\n",
      "OK\n",
      "Time taken: 0.019 seconds\n",
      "OK\n",
      "Time taken: 0.276 seconds\n",
      "OK\n",
      "Time taken: 0.018 seconds\n",
      "Query ID = jovyan_20190515121818_ae92e52e-2d30-4cf8-b073-e1ca103ad600\n",
      "Total jobs = 3\n",
      "Launching Job 1 out of 3\n",
      "Number of reduce tasks is set to 0 since there's no reduce operator\n",
      "Starting Job = job_1557922020218_0007, Tracking URL = http://89a08070e8e4:8088/proxy/application_1557922020218_0007/\n",
      "Kill Command = /opt/hadoop/bin/hadoop job  -kill job_1557922020218_0007\n",
      "Hadoop job information for Stage-1: number of mappers: 1; number of reducers: 0\n",
      "2019-05-15 12:18:18,909 Stage-1 map = 0%,  reduce = 0%\n",
      "2019-05-15 12:18:37,426 Stage-1 map = 39%,  reduce = 0%, Cumulative CPU 16.68 sec\n",
      "2019-05-15 12:18:42,782 Stage-1 map = 62%,  reduce = 0%, Cumulative CPU 22.36 sec\n",
      "2019-05-15 12:18:49,178 Stage-1 map = 88%,  reduce = 0%, Cumulative CPU 28.92 sec\n",
      "2019-05-15 12:18:55,540 Stage-1 map = 100%,  reduce = 0%, Cumulative CPU 32.58 sec\n",
      "MapReduce Total cumulative CPU time: 32 seconds 580 msec\n",
      "Ended Job = job_1557922020218_0007\n",
      "Stage-4 is selected by condition resolver.\n",
      "Stage-3 is filtered out by condition resolver.\n",
      "Stage-5 is filtered out by condition resolver.\n",
      "Moving data to: hdfs://localhost:9000/user/jovyan/test_metastore/posts_sample/.hive-staging_hive_2019-05-15_12-18-02_823_1801960125534027712-1/-ext-10000\n",
      "Loading data to table demodb.posts_sample partition (creationmonth=null, creationyear=null)\n",
      "\t Time taken for load dynamic partitions : 13301\n",
      "\tLoading partition {creationmonth=2009-07, creationyear=2009}\n",
      "\tLoading partition {creationmonth=2016-07, creationyear=2016}\n",
      "\tLoading partition {creationmonth=2011-05, creationyear=2011}\n",
      "\tLoading partition {creationmonth=2011-11, creationyear=2011}\n",
      "\tLoading partition {creationmonth=2013-08, creationyear=2013}\n",
      "\tLoading partition {creationmonth=2015-02, creationyear=2015}\n",
      "\tLoading partition {creationmonth=2014-10, creationyear=2014}\n",
      "\tLoading partition {creationmonth=2014-12, creationyear=2014}\n",
      "\tLoading partition {creationmonth=2012-01, creationyear=2012}\n",
      "\tLoading partition {creationmonth=2010-07, creationyear=2010}\n",
      "\tLoading partition {creationmonth=2008-09, creationyear=2008}\n",
      "\tLoading partition {creationmonth=__HIVE_DEFAULT_PARTITION__, creationyear=__HIVE_DEFAULT_PARTITION__}\n",
      "\tLoading partition {creationmonth=2014-04, creationyear=2014}\n",
      "\tLoading partition {creationmonth=2015-09, creationyear=2015}\n",
      "\tLoading partition {creationmonth=2013-12, creationyear=2013}\n",
      "\tLoading partition {creationmonth=2009-05, creationyear=2009}\n",
      "\tLoading partition {creationmonth=2013-01, creationyear=2013}\n",
      "\tLoading partition {creationmonth=2016-05, creationyear=2016}\n",
      "\tLoading partition {creationmonth=2016-11, creationyear=2016}\n",
      "\tLoading partition {creationmonth=2009-11, creationyear=2009}\n",
      "\tLoading partition {creationmonth=2011-07, creationyear=2011}\n",
      "\tLoading partition {creationmonth=2013-06, creationyear=2013}\n",
      "\tLoading partition {creationmonth=2010-02, creationyear=2010}\n",
      "\tLoading partition {creationmonth=2010-05, creationyear=2010}\n",
      "\tLoading partition {creationmonth=2014-06, creationyear=2014}\n",
      "\tLoading partition {creationmonth=2010-10, creationyear=2010}\n",
      "\tLoading partition {creationmonth=2010-04, creationyear=2010}\n",
      "\tLoading partition {creationmonth=2011-01, creationyear=2011}\n",
      "\tLoading partition {creationmonth=2012-07, creationyear=2012}\n",
      "\tLoading partition {creationmonth=2013-04, creationyear=2013}\n",
      "\tLoading partition {creationmonth=2010-03, creationyear=2010}\n",
      "\tLoading partition {creationmonth=2009-02, creationyear=2009}\n",
      "\tLoading partition {creationmonth=2016-02, creationyear=2016}\n",
      "\tLoading partition {creationmonth=2013-10, creationyear=2013}\n",
      "\tLoading partition {creationmonth=2014-08, creationyear=2014}\n",
      "\tLoading partition {creationmonth=2015-05, creationyear=2015}\n",
      "\tLoading partition {creationmonth=2015-10, creationyear=2015}\n",
      "\tLoading partition {creationmonth=2008-10, creationyear=2008}\n",
      "\tLoading partition {creationmonth=2015-04, creationyear=2015}\n",
      "\tLoading partition {creationmonth=2009-12, creationyear=2009}\n",
      "\tLoading partition {creationmonth=2009-01, creationyear=2009}\n",
      "\tLoading partition {creationmonth=2016-12, creationyear=2016}\n",
      "\tLoading partition {creationmonth=2014-07, creationyear=2014}\n",
      "\tLoading partition {creationmonth=2016-01, creationyear=2016}\n",
      "\tLoading partition {creationmonth=2013-11, creationyear=2013}\n",
      "\tLoading partition {creationmonth=2012-03, creationyear=2012}\n",
      "\tLoading partition {creationmonth=2011-06, creationyear=2011}\n",
      "\tLoading partition {creationmonth=2010-09, creationyear=2010}\n",
      "\tLoading partition {creationmonth=2012-08, creationyear=2012}\n",
      "\tLoading partition {creationmonth=2013-05, creationyear=2013}\n",
      "\tLoading partition {creationmonth=2014-02, creationyear=2014}\n",
      "\tLoading partition {creationmonth=2012-02, creationyear=2012}\n",
      "\tLoading partition {creationmonth=2010-08, creationyear=2010}\n",
      "\tLoading partition {creationmonth=2011-12, creationyear=2011}\n",
      "\tLoading partition {creationmonth=2014-05, creationyear=2014}\n",
      "\tLoading partition {creationmonth=2009-06, creationyear=2009}\n",
      "\tLoading partition {creationmonth=2016-06, creationyear=2016}\n",
      "\tLoading partition {creationmonth=2011-04, creationyear=2011}\n",
      "\tLoading partition {creationmonth=2013-07, creationyear=2013}\n",
      "\tLoading partition {creationmonth=2015-01, creationyear=2015}\n",
      "\tLoading partition {creationmonth=2014-11, creationyear=2014}\n",
      "\tLoading partition {creationmonth=2015-08, creationyear=2015}\n",
      "\tLoading partition {creationmonth=2008-08, creationyear=2008}\n",
      "\tLoading partition {creationmonth=2012-04, creationyear=2012}\n",
      "\tLoading partition {creationmonth=2012-09, creationyear=2012}\n",
      "\tLoading partition {creationmonth=2012-10, creationyear=2012}\n",
      "\tLoading partition {creationmonth=2014-03, creationyear=2014}\n",
      "\tLoading partition {creationmonth=2014-01, creationyear=2014}\n",
      "\tLoading partition {creationmonth=2015-11, creationyear=2015}\n",
      "\tLoading partition {creationmonth=2013-09, creationyear=2013}\n",
      "\tLoading partition {creationmonth=2008-11, creationyear=2008}\n",
      "\tLoading partition {creationmonth=2016-08, creationyear=2016}\n",
      "\tLoading partition {creationmonth=2009-08, creationyear=2009}\n",
      "\tLoading partition {creationmonth=2011-10, creationyear=2011}\n",
      "\tLoading partition {creationmonth=2011-02, creationyear=2011}\n",
      "\tLoading partition {creationmonth=2015-03, creationyear=2015}\n",
      "\tLoading partition {creationmonth=2014-09, creationyear=2014}\n",
      "\tLoading partition {creationmonth=2013-03, creationyear=2013}\n",
      "\tLoading partition {creationmonth=2016-03, creationyear=2016}\n",
      "\tLoading partition {creationmonth=2009-03, creationyear=2009}\n",
      "\tLoading partition {creationmonth=2015-06, creationyear=2015}\n",
      "\tLoading partition {creationmonth=2013-02, creationyear=2013}\n",
      "\tLoading partition {creationmonth=2016-10, creationyear=2016}\n",
      "\tLoading partition {creationmonth=2012-05, creationyear=2012}\n",
      "\tLoading partition {creationmonth=2012-12, creationyear=2012}\n",
      "\tLoading partition {creationmonth=2009-10, creationyear=2009}\n",
      "\tLoading partition {creationmonth=2010-11, creationyear=2010}\n",
      "\tLoading partition {creationmonth=2011-09, creationyear=2011}\n",
      "\tLoading partition {creationmonth=2011-08, creationyear=2011}\n",
      "\tLoading partition {creationmonth=2012-06, creationyear=2012}\n",
      "\tLoading partition {creationmonth=2008-12, creationyear=2008}\n",
      "\tLoading partition {creationmonth=2015-12, creationyear=2015}\n",
      "\tLoading partition {creationmonth=2010-06, creationyear=2010}\n",
      "\tLoading partition {creationmonth=2011-03, creationyear=2011}\n",
      "\tLoading partition {creationmonth=2009-09, creationyear=2009}\n",
      "\tLoading partition {creationmonth=2016-09, creationyear=2016}\n",
      "\tLoading partition {creationmonth=2009-04, creationyear=2009}\n",
      "\tLoading partition {creationmonth=2010-12, creationyear=2010}\n",
      "\tLoading partition {creationmonth=2010-01, creationyear=2010}\n",
      "\tLoading partition {creationmonth=2012-11, creationyear=2012}\n",
      "\tLoading partition {creationmonth=2016-04, creationyear=2016}\n",
      "\tLoading partition {creationmonth=2015-07, creationyear=2015}\n",
      "\t Time taken for adding to write entity : 24\n",
      "Partition demodb.posts_sample{creationmonth=2008-08, creationyear=2008} stats: [numFiles=1, numRows=23, totalSize=133, rawDataSize=110]\n",
      "Partition demodb.posts_sample{creationmonth=2008-09, creationyear=2008} stats: [numFiles=1, numRows=89, totalSize=572, rawDataSize=483]\n",
      "Partition demodb.posts_sample{creationmonth=2008-10, creationyear=2008} stats: [numFiles=1, numRows=73, totalSize=511, rawDataSize=438]\n",
      "Partition demodb.posts_sample{creationmonth=2008-11, creationyear=2008} stats: [numFiles=1, numRows=54, totalSize=378, rawDataSize=324]\n",
      "Partition demodb.posts_sample{creationmonth=2008-12, creationyear=2008} stats: [numFiles=1, numRows=51, totalSize=357, rawDataSize=306]\n",
      "Partition demodb.posts_sample{creationmonth=2009-01, creationyear=2009} stats: [numFiles=1, numRows=84, totalSize=588, rawDataSize=504]\n",
      "Partition demodb.posts_sample{creationmonth=2009-02, creationyear=2009} stats: [numFiles=1, numRows=84, totalSize=588, rawDataSize=504]\n",
      "Partition demodb.posts_sample{creationmonth=2009-03, creationyear=2009} stats: [numFiles=1, numRows=85, totalSize=595, rawDataSize=510]\n",
      "Partition demodb.posts_sample{creationmonth=2009-04, creationyear=2009} stats: [numFiles=1, numRows=97, totalSize=679, rawDataSize=582]\n",
      "Partition demodb.posts_sample{creationmonth=2009-05, creationyear=2009} stats: [numFiles=1, numRows=111, totalSize=777, rawDataSize=666]\n",
      "Partition demodb.posts_sample{creationmonth=2009-06, creationyear=2009} stats: [numFiles=1, numRows=120, totalSize=908, rawDataSize=788]\n",
      "Partition demodb.posts_sample{creationmonth=2009-07, creationyear=2009} stats: [numFiles=1, numRows=133, totalSize=1064, rawDataSize=931]\n",
      "Partition demodb.posts_sample{creationmonth=2009-08, creationyear=2009} stats: [numFiles=1, numRows=129, totalSize=1032, rawDataSize=903]\n",
      "Partition demodb.posts_sample{creationmonth=2009-09, creationyear=2009} stats: [numFiles=1, numRows=128, totalSize=1024, rawDataSize=896]\n",
      "Partition demodb.posts_sample{creationmonth=2009-10, creationyear=2009} stats: [numFiles=1, numRows=133, totalSize=1064, rawDataSize=931]\n",
      "Partition demodb.posts_sample{creationmonth=2009-11, creationyear=2009} stats: [numFiles=1, numRows=149, totalSize=1192, rawDataSize=1043]\n",
      "Partition demodb.posts_sample{creationmonth=2009-12, creationyear=2009} stats: [numFiles=1, numRows=147, totalSize=1176, rawDataSize=1029]\n",
      "Partition demodb.posts_sample{creationmonth=2010-01, creationyear=2010} stats: [numFiles=1, numRows=175, totalSize=1400, rawDataSize=1225]\n",
      "Partition demodb.posts_sample{creationmonth=2010-02, creationyear=2010} stats: [numFiles=1, numRows=162, totalSize=1296, rawDataSize=1134]\n",
      "Partition demodb.posts_sample{creationmonth=2010-03, creationyear=2010} stats: [numFiles=1, numRows=190, totalSize=1520, rawDataSize=1330]\n",
      "Partition demodb.posts_sample{creationmonth=2010-04, creationyear=2010} stats: [numFiles=1, numRows=179, totalSize=1432, rawDataSize=1253]\n",
      "Partition demodb.posts_sample{creationmonth=2010-05, creationyear=2010} stats: [numFiles=1, numRows=168, totalSize=1344, rawDataSize=1176]\n",
      "Partition demodb.posts_sample{creationmonth=2010-06, creationyear=2010} stats: [numFiles=1, numRows=201, totalSize=1608, rawDataSize=1407]\n",
      "Partition demodb.posts_sample{creationmonth=2010-07, creationyear=2010} stats: [numFiles=1, numRows=209, totalSize=1672, rawDataSize=1463]\n",
      "Partition demodb.posts_sample{creationmonth=2010-08, creationyear=2010} stats: [numFiles=1, numRows=212, totalSize=1696, rawDataSize=1484]\n",
      "Partition demodb.posts_sample{creationmonth=2010-09, creationyear=2010} stats: [numFiles=1, numRows=208, totalSize=1664, rawDataSize=1456]\n",
      "Partition demodb.posts_sample{creationmonth=2010-10, creationyear=2010} stats: [numFiles=1, numRows=222, totalSize=1776, rawDataSize=1554]\n",
      "Partition demodb.posts_sample{creationmonth=2010-11, creationyear=2010} stats: [numFiles=1, numRows=236, totalSize=1888, rawDataSize=1652]\n",
      "Partition demodb.posts_sample{creationmonth=2010-12, creationyear=2010} stats: [numFiles=1, numRows=237, totalSize=1896, rawDataSize=1659]\n",
      "Partition demodb.posts_sample{creationmonth=2011-01, creationyear=2011} stats: [numFiles=1, numRows=276, totalSize=2208, rawDataSize=1932]\n",
      "Partition demodb.posts_sample{creationmonth=2011-02, creationyear=2011} stats: [numFiles=1, numRows=273, totalSize=2184, rawDataSize=1911]\n",
      "Partition demodb.posts_sample{creationmonth=2011-03, creationyear=2011} stats: [numFiles=1, numRows=349, totalSize=2792, rawDataSize=2443]\n",
      "Partition demodb.posts_sample{creationmonth=2011-04, creationyear=2011} stats: [numFiles=1, numRows=321, totalSize=2568, rawDataSize=2247]\n",
      "Partition demodb.posts_sample{creationmonth=2011-05, creationyear=2011} stats: [numFiles=1, numRows=327, totalSize=2616, rawDataSize=2289]\n",
      "Partition demodb.posts_sample{creationmonth=2011-06, creationyear=2011} stats: [numFiles=1, numRows=340, totalSize=2720, rawDataSize=2380]\n",
      "Partition demodb.posts_sample{creationmonth=2011-07, creationyear=2011} stats: [numFiles=1, numRows=335, totalSize=2680, rawDataSize=2345]\n",
      "Partition demodb.posts_sample{creationmonth=2011-08, creationyear=2011} stats: [numFiles=1, numRows=362, totalSize=2896, rawDataSize=2534]\n",
      "Partition demodb.posts_sample{creationmonth=2011-09, creationyear=2011} stats: [numFiles=1, numRows=343, totalSize=2744, rawDataSize=2401]\n",
      "Partition demodb.posts_sample{creationmonth=2011-10, creationyear=2011} stats: [numFiles=1, numRows=331, totalSize=2648, rawDataSize=2317]\n",
      "Partition demodb.posts_sample{creationmonth=2011-11, creationyear=2011} stats: [numFiles=1, numRows=361, totalSize=2888, rawDataSize=2527]\n",
      "Partition demodb.posts_sample{creationmonth=2011-12, creationyear=2011} stats: [numFiles=1, numRows=350, totalSize=2800, rawDataSize=2450]\n",
      "Partition demodb.posts_sample{creationmonth=2012-01, creationyear=2012} stats: [numFiles=1, numRows=377, totalSize=3016, rawDataSize=2639]\n",
      "Partition demodb.posts_sample{creationmonth=2012-02, creationyear=2012} stats: [numFiles=1, numRows=412, totalSize=3296, rawDataSize=2884]\n",
      "Partition demodb.posts_sample{creationmonth=2012-03, creationyear=2012} stats: [numFiles=1, numRows=432, totalSize=3456, rawDataSize=3024]\n",
      "Partition demodb.posts_sample{creationmonth=2012-04, creationyear=2012} stats: [numFiles=1, numRows=412, totalSize=3672, rawDataSize=3260]\n",
      "Partition demodb.posts_sample{creationmonth=2012-05, creationyear=2012} stats: [numFiles=1, numRows=429, totalSize=3861, rawDataSize=3432]\n",
      "Partition demodb.posts_sample{creationmonth=2012-06, creationyear=2012} stats: [numFiles=1, numRows=412, totalSize=3708, rawDataSize=3296]\n",
      "Partition demodb.posts_sample{creationmonth=2012-07, creationyear=2012} stats: [numFiles=1, numRows=445, totalSize=4005, rawDataSize=3560]\n",
      "Partition demodb.posts_sample{creationmonth=2012-08, creationyear=2012} stats: [numFiles=1, numRows=445, totalSize=4005, rawDataSize=3560]\n",
      "Partition demodb.posts_sample{creationmonth=2012-09, creationyear=2012} stats: [numFiles=1, numRows=399, totalSize=3591, rawDataSize=3192]\n",
      "Partition demodb.posts_sample{creationmonth=2012-10, creationyear=2012} stats: [numFiles=1, numRows=469, totalSize=4221, rawDataSize=3752]\n",
      "Partition demodb.posts_sample{creationmonth=2012-11, creationyear=2012} stats: [numFiles=1, numRows=438, totalSize=3942, rawDataSize=3504]\n",
      "Partition demodb.posts_sample{creationmonth=2012-12, creationyear=2012} stats: [numFiles=1, numRows=415, totalSize=3735, rawDataSize=3320]\n",
      "Partition demodb.posts_sample{creationmonth=2013-01, creationyear=2013} stats: [numFiles=1, numRows=484, totalSize=4356, rawDataSize=3872]\n",
      "Partition demodb.posts_sample{creationmonth=2013-02, creationyear=2013} stats: [numFiles=1, numRows=474, totalSize=4266, rawDataSize=3792]\n",
      "Partition demodb.posts_sample{creationmonth=2013-03, creationyear=2013} stats: [numFiles=1, numRows=533, totalSize=4797, rawDataSize=4264]\n",
      "Partition demodb.posts_sample{creationmonth=2013-04, creationyear=2013} stats: [numFiles=1, numRows=529, totalSize=4761, rawDataSize=4232]\n",
      "Partition demodb.posts_sample{creationmonth=2013-05, creationyear=2013} stats: [numFiles=1, numRows=520, totalSize=4680, rawDataSize=4160]\n",
      "Partition demodb.posts_sample{creationmonth=2013-06, creationyear=2013} stats: [numFiles=1, numRows=477, totalSize=4293, rawDataSize=3816]\n",
      "Partition demodb.posts_sample{creationmonth=2013-07, creationyear=2013} stats: [numFiles=1, numRows=550, totalSize=4950, rawDataSize=4400]\n",
      "Partition demodb.posts_sample{creationmonth=2013-08, creationyear=2013} stats: [numFiles=1, numRows=531, totalSize=4779, rawDataSize=4248]\n",
      "Partition demodb.posts_sample{creationmonth=2013-09, creationyear=2013} stats: [numFiles=1, numRows=511, totalSize=4599, rawDataSize=4088]\n",
      "Partition demodb.posts_sample{creationmonth=2013-10, creationyear=2013} stats: [numFiles=1, numRows=570, totalSize=5130, rawDataSize=4560]\n",
      "Partition demodb.posts_sample{creationmonth=2013-11, creationyear=2013} stats: [numFiles=1, numRows=543, totalSize=4887, rawDataSize=4344]\n",
      "Partition demodb.posts_sample{creationmonth=2013-12, creationyear=2013} stats: [numFiles=1, numRows=513, totalSize=4617, rawDataSize=4104]\n",
      "Partition demodb.posts_sample{creationmonth=2014-01, creationyear=2014} stats: [numFiles=1, numRows=595, totalSize=5355, rawDataSize=4760]\n",
      "Partition demodb.posts_sample{creationmonth=2014-02, creationyear=2014} stats: [numFiles=1, numRows=585, totalSize=5265, rawDataSize=4680]\n",
      "Partition demodb.posts_sample{creationmonth=2014-03, creationyear=2014} stats: [numFiles=1, numRows=624, totalSize=5616, rawDataSize=4992]\n",
      "Partition demodb.posts_sample{creationmonth=2014-04, creationyear=2014} stats: [numFiles=1, numRows=593, totalSize=5337, rawDataSize=4744]\n",
      "Partition demodb.posts_sample{creationmonth=2014-05, creationyear=2014} stats: [numFiles=1, numRows=541, totalSize=4869, rawDataSize=4328]\n",
      "Partition demodb.posts_sample{creationmonth=2014-06, creationyear=2014} stats: [numFiles=1, numRows=487, totalSize=4383, rawDataSize=3896]\n",
      "Partition demodb.posts_sample{creationmonth=2014-07, creationyear=2014} stats: [numFiles=1, numRows=536, totalSize=4824, rawDataSize=4288]\n",
      "Partition demodb.posts_sample{creationmonth=2014-08, creationyear=2014} stats: [numFiles=1, numRows=495, totalSize=4455, rawDataSize=3960]\n",
      "Partition demodb.posts_sample{creationmonth=2014-09, creationyear=2014} stats: [numFiles=1, numRows=502, totalSize=4518, rawDataSize=4016]\n",
      "Partition demodb.posts_sample{creationmonth=2014-10, creationyear=2014} stats: [numFiles=1, numRows=527, totalSize=4743, rawDataSize=4216]\n",
      "Partition demodb.posts_sample{creationmonth=2014-11, creationyear=2014} stats: [numFiles=1, numRows=501, totalSize=4509, rawDataSize=4008]\n",
      "Partition demodb.posts_sample{creationmonth=2014-12, creationyear=2014} stats: [numFiles=1, numRows=482, totalSize=4338, rawDataSize=3856]\n",
      "Partition demodb.posts_sample{creationmonth=2015-01, creationyear=2015} stats: [numFiles=1, numRows=502, totalSize=4518, rawDataSize=4016]\n",
      "Partition demodb.posts_sample{creationmonth=2015-02, creationyear=2015} stats: [numFiles=1, numRows=506, totalSize=4554, rawDataSize=4048]\n",
      "Partition demodb.posts_sample{creationmonth=2015-03, creationyear=2015} stats: [numFiles=1, numRows=568, totalSize=5112, rawDataSize=4544]\n",
      "Partition demodb.posts_sample{creationmonth=2015-04, creationyear=2015} stats: [numFiles=1, numRows=581, totalSize=5229, rawDataSize=4648]\n",
      "Partition demodb.posts_sample{creationmonth=2015-05, creationyear=2015} stats: [numFiles=1, numRows=566, totalSize=5094, rawDataSize=4528]\n",
      "Partition demodb.posts_sample{creationmonth=2015-06, creationyear=2015} stats: [numFiles=1, numRows=570, totalSize=5130, rawDataSize=4560]\n",
      "Partition demodb.posts_sample{creationmonth=2015-07, creationyear=2015} stats: [numFiles=1, numRows=585, totalSize=5265, rawDataSize=4680]\n",
      "Partition demodb.posts_sample{creationmonth=2015-08, creationyear=2015} stats: [numFiles=1, numRows=554, totalSize=4986, rawDataSize=4432]\n",
      "Partition demodb.posts_sample{creationmonth=2015-09, creationyear=2015} stats: [numFiles=1, numRows=536, totalSize=4824, rawDataSize=4288]\n",
      "Partition demodb.posts_sample{creationmonth=2015-10, creationyear=2015} stats: [numFiles=1, numRows=561, totalSize=5049, rawDataSize=4488]\n",
      "Partition demodb.posts_sample{creationmonth=2015-11, creationyear=2015} stats: [numFiles=1, numRows=529, totalSize=4761, rawDataSize=4232]\n",
      "Partition demodb.posts_sample{creationmonth=2015-12, creationyear=2015} stats: [numFiles=1, numRows=537, totalSize=4833, rawDataSize=4296]\n",
      "Partition demodb.posts_sample{creationmonth=2016-01, creationyear=2016} stats: [numFiles=1, numRows=582, totalSize=5238, rawDataSize=4656]\n",
      "Partition demodb.posts_sample{creationmonth=2016-02, creationyear=2016} stats: [numFiles=1, numRows=592, totalSize=5328, rawDataSize=4736]\n",
      "Partition demodb.posts_sample{creationmonth=2016-03, creationyear=2016} stats: [numFiles=1, numRows=638, totalSize=5742, rawDataSize=5104]\n",
      "Partition demodb.posts_sample{creationmonth=2016-04, creationyear=2016} stats: [numFiles=1, numRows=619, totalSize=5571, rawDataSize=4952]\n",
      "Partition demodb.posts_sample{creationmonth=2016-05, creationyear=2016} stats: [numFiles=1, numRows=603, totalSize=5427, rawDataSize=4824]\n",
      "Partition demodb.posts_sample{creationmonth=2016-06, creationyear=2016} stats: [numFiles=1, numRows=584, totalSize=5256, rawDataSize=4672]\n",
      "Partition demodb.posts_sample{creationmonth=2016-07, creationyear=2016} stats: [numFiles=1, numRows=562, totalSize=5058, rawDataSize=4496]\n",
      "Partition demodb.posts_sample{creationmonth=2016-08, creationyear=2016} stats: [numFiles=1, numRows=571, totalSize=5139, rawDataSize=4568]\n",
      "Partition demodb.posts_sample{creationmonth=2016-09, creationyear=2016} stats: [numFiles=1, numRows=545, totalSize=4905, rawDataSize=4360]\n",
      "Partition demodb.posts_sample{creationmonth=2016-10, creationyear=2016} stats: [numFiles=1, numRows=554, totalSize=4986, rawDataSize=4432]\n",
      "Partition demodb.posts_sample{creationmonth=2016-11, creationyear=2016} stats: [numFiles=1, numRows=562, totalSize=5058, rawDataSize=4496]\n",
      "Partition demodb.posts_sample{creationmonth=2016-12, creationyear=2016} stats: [numFiles=1, numRows=195, totalSize=1755, rawDataSize=1560]\n",
      "Partition demodb.posts_sample{creationmonth=__HIVE_DEFAULT_PARTITION__, creationyear=__HIVE_DEFAULT_PARTITION__} stats: [numFiles=1, numRows=384, totalSize=1152, rawDataSize=768]\n",
      "MapReduce Jobs Launched: \n",
      "Stage-Stage-1: Map: 1   Cumulative CPU: 33.75 sec   HDFS Read: 60003205 HDFS Write: 350696 SUCCESS\n",
      "Total MapReduce CPU Time Spent: 33 seconds 750 msec\n",
      "OK\n",
      "Time taken: 94.804 seconds\n",
      "Query ID = jovyan_20190515121919_cd0dc5c9-46ac-45c4-a11f-9aaa0907d363\n",
      "Total jobs = 2\n",
      "Launching Job 1 out of 2\n",
      "Number of reduce tasks not specified. Estimated from input data size: 1\n",
      "In order to change the average load for a reducer (in bytes):\n",
      "  set hive.exec.reducers.bytes.per.reducer=<number>\n",
      "In order to limit the maximum number of reducers:\n",
      "  set hive.exec.reducers.max=<number>\n",
      "In order to set a constant number of reducers:\n",
      "  set mapreduce.job.reduces=<number>\n",
      "Starting Job = job_1557922020218_0008, Tracking URL = http://89a08070e8e4:8088/proxy/application_1557922020218_0008/\n",
      "Kill Command = /opt/hadoop/bin/hadoop job  -kill job_1557922020218_0008\n",
      "Hadoop job information for Stage-1: number of mappers: 1; number of reducers: 1\n",
      "2019-05-15 12:19:51,434 Stage-1 map = 0%,  reduce = 0%\n",
      "2019-05-15 12:20:00,014 Stage-1 map = 100%,  reduce = 0%, Cumulative CPU 5.53 sec\n",
      "2019-05-15 12:20:09,632 Stage-1 map = 100%,  reduce = 100%, Cumulative CPU 9.46 sec\n",
      "MapReduce Total cumulative CPU time: 9 seconds 460 msec\n",
      "Ended Job = job_1557922020218_0008\n",
      "Launching Job 2 out of 2\n",
      "Number of reduce tasks not specified. Estimated from input data size: 1\n",
      "In order to change the average load for a reducer (in bytes):\n",
      "  set hive.exec.reducers.bytes.per.reducer=<number>\n",
      "In order to limit the maximum number of reducers:\n",
      "  set hive.exec.reducers.max=<number>\n",
      "In order to set a constant number of reducers:\n",
      "  set mapreduce.job.reduces=<number>\n",
      "Starting Job = job_1557922020218_0009, Tracking URL = http://89a08070e8e4:8088/proxy/application_1557922020218_0009/\n",
      "Kill Command = /opt/hadoop/bin/hadoop job  -kill job_1557922020218_0009\n",
      "Hadoop job information for Stage-2: number of mappers: 1; number of reducers: 1\n",
      "2019-05-15 12:20:26,713 Stage-2 map = 0%,  reduce = 0%\n",
      "2019-05-15 12:20:34,242 Stage-2 map = 100%,  reduce = 0%, Cumulative CPU 2.59 sec\n",
      "2019-05-15 12:20:42,809 Stage-2 map = 100%,  reduce = 100%, Cumulative CPU 7.98 sec\n",
      "MapReduce Total cumulative CPU time: 7 seconds 980 msec\n",
      "Ended Job = job_1557922020218_0009\n",
      "MapReduce Jobs Launched: \n",
      "Stage-Stage-1: Map: 1  Reduce: 1   Cumulative CPU: 9.46 sec   HDFS Read: 397581 HDFS Write: 3482 SUCCESS\n",
      "Stage-Stage-2: Map: 1  Reduce: 1   Cumulative CPU: 7.98 sec   HDFS Read: 10609 HDFS Write: 16 SUCCESS\n",
      "Total MapReduce CPU Time Spent: 17 seconds 440 msec\n",
      "OK\n",
      "Time taken: 66.293 seconds, Fetched: 1 row(s)\n"
     ]
    }
   ],
   "source": [
    "%%bash\n",
    "hive -f task1.hql"
   ]
  },
  {
   "cell_type": "markdown",
   "metadata": {
    "colab_type": "text",
    "id": "OwS_Hbx3J5uL"
   },
   "source": [
    "Congratulations! You have completed the assignment! Now you can submit it to the system and get your results!\n",
    "\n",
    "Copy your notebook from the steps <a href=\"#Step-4.-Complete-the-assignment\">Step 4</a> and <a href=\"#Step-5.-Submission-part.-Do-not-touch!!-And-simple-run-all-cells-below!\">Step 5</a> to the new notebook. Run all the cells! And submit the copied notebook!"
   ]
  }
 ],
 "metadata": {
  "colab": {
   "collapsed_sections": [],
   "default_view": {},
   "name": "901_to_students.ipynb",
   "provenance": [],
   "toc_visible": true,
   "version": "0.3.2",
   "views": {}
  },
  "kernelspec": {
   "display_name": "Python 3",
   "language": "python",
   "name": "python3"
  },
  "language_info": {
   "codemirror_mode": {
    "name": "ipython",
    "version": 3
   },
   "file_extension": ".py",
   "mimetype": "text/x-python",
   "name": "python",
   "nbconvert_exporter": "python",
   "pygments_lexer": "ipython3",
   "version": "3.6.2"
  }
 },
 "nbformat": 4,
 "nbformat_minor": 1
}
